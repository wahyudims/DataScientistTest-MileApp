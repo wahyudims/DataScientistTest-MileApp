{
 "cells": [
  {
   "cell_type": "code",
   "execution_count": 1,
   "id": "e8b2fd2d",
   "metadata": {},
   "outputs": [],
   "source": [
    "import json\n",
    "import pandas as pd\n",
    "import matplotlib.pyplot as plt\n",
    "import seaborn as sns\n",
    "import folium\n",
    "from sklearn.cluster import KMeans\n",
    "from geopy.distance import great_circle\n",
    "\n",
    "from sklearn.model_selection import train_test_split\n",
    "from sklearn.linear_model import LinearRegression\n",
    "from sklearn.tree import DecisionTreeRegressor\n",
    "from sklearn.ensemble import RandomForestRegressor\n",
    "import xgboost as xgb\n",
    "from category_encoders import TargetEncoder\n",
    "from sklearn.metrics import mean_squared_error, r2_score\n",
    "from sklearn.preprocessing import StandardScaler"
   ]
  },
  {
   "cell_type": "code",
   "execution_count": 2,
   "id": "661b16f7",
   "metadata": {},
   "outputs": [],
   "source": [
    "file = 'data-sample.json'"
   ]
  },
  {
   "cell_type": "code",
   "execution_count": 3,
   "id": "5130c255",
   "metadata": {},
   "outputs": [],
   "source": [
    "with open (file, 'r') as json_file:\n",
    "    data = json.load(json_file)"
   ]
  },
  {
   "cell_type": "code",
   "execution_count": 4,
   "id": "454b747e",
   "metadata": {},
   "outputs": [
    {
     "data": {
      "text/html": [
       "<div>\n",
       "<style scoped>\n",
       "    .dataframe tbody tr th:only-of-type {\n",
       "        vertical-align: middle;\n",
       "    }\n",
       "\n",
       "    .dataframe tbody tr th {\n",
       "        vertical-align: top;\n",
       "    }\n",
       "\n",
       "    .dataframe thead th {\n",
       "        text-align: right;\n",
       "    }\n",
       "</style>\n",
       "<table border=\"1\" class=\"dataframe\">\n",
       "  <thead>\n",
       "    <tr style=\"text-align: right;\">\n",
       "      <th></th>\n",
       "      <th>taskCreatedTime</th>\n",
       "      <th>taskAssignedTo</th>\n",
       "      <th>taskCompletedTime</th>\n",
       "      <th>taskStatus</th>\n",
       "      <th>flow</th>\n",
       "      <th>taskId</th>\n",
       "      <th>taskLocationDone.lon</th>\n",
       "      <th>taskLocationDone.lat</th>\n",
       "      <th>cod.amount</th>\n",
       "      <th>cod.received</th>\n",
       "      <th>UserVar.branch_dest</th>\n",
       "      <th>UserVar.taskStatusLabel</th>\n",
       "      <th>UserVar.receiver_city</th>\n",
       "      <th>UserVar.taskDetailStatusLabel</th>\n",
       "      <th>UserVar.taskDetailStatus</th>\n",
       "      <th>UserVar.weight</th>\n",
       "      <th>UserVar.branch_origin</th>\n",
       "      <th>UserVar.taskStatus</th>\n",
       "    </tr>\n",
       "  </thead>\n",
       "  <tbody>\n",
       "    <tr>\n",
       "      <th>0</th>\n",
       "      <td>2022-11-01 20:17:26 +0700</td>\n",
       "      <td>pacifiedLion0</td>\n",
       "      <td>2022-11-01 20:46:30 +0700</td>\n",
       "      <td>done</td>\n",
       "      <td>Delivery</td>\n",
       "      <td>4fe3b237c832ca4841a2</td>\n",
       "      <td>109.762910</td>\n",
       "      <td>-6.926608</td>\n",
       "      <td>685000.0</td>\n",
       "      <td>True</td>\n",
       "      <td>SRG</td>\n",
       "      <td>Success</td>\n",
       "      <td>BATANG ,KAB BATANG</td>\n",
       "      <td>YANG BERSANGKUTAN</td>\n",
       "      <td>D01</td>\n",
       "      <td>13</td>\n",
       "      <td>CGK</td>\n",
       "      <td>COLF01</td>\n",
       "    </tr>\n",
       "    <tr>\n",
       "      <th>1</th>\n",
       "      <td>2022-11-01 08:41:07 +0700</td>\n",
       "      <td>peacefulTacos6</td>\n",
       "      <td>2022-11-01 12:33:48 +0700</td>\n",
       "      <td>done</td>\n",
       "      <td>Delivery</td>\n",
       "      <td>08a4da25256affae8446</td>\n",
       "      <td>110.033986</td>\n",
       "      <td>-7.876154</td>\n",
       "      <td>53500.0</td>\n",
       "      <td>True</td>\n",
       "      <td>MGL</td>\n",
       "      <td>Success</td>\n",
       "      <td>PURWODADI,PURWOREJO</td>\n",
       "      <td>YANG BERSANGKUTAN</td>\n",
       "      <td>D01</td>\n",
       "      <td>1.3</td>\n",
       "      <td>CGK</td>\n",
       "      <td>COLF01</td>\n",
       "    </tr>\n",
       "    <tr>\n",
       "      <th>2</th>\n",
       "      <td>2022-11-01 08:41:07 +0700</td>\n",
       "      <td>peacefulTacos6</td>\n",
       "      <td>2022-11-01 13:41:57 +0700</td>\n",
       "      <td>done</td>\n",
       "      <td>Delivery</td>\n",
       "      <td>2ff0dc469826158b7684</td>\n",
       "      <td>109.999733</td>\n",
       "      <td>-7.849777</td>\n",
       "      <td>179500.0</td>\n",
       "      <td>True</td>\n",
       "      <td>MGL</td>\n",
       "      <td>Success</td>\n",
       "      <td>PURWODADI,PURWOREJO</td>\n",
       "      <td>YANG BERSANGKUTAN</td>\n",
       "      <td>D01</td>\n",
       "      <td>3</td>\n",
       "      <td>CGK</td>\n",
       "      <td>COLF01</td>\n",
       "    </tr>\n",
       "    <tr>\n",
       "      <th>3</th>\n",
       "      <td>2022-11-01 08:41:07 +0700</td>\n",
       "      <td>peacefulTacos6</td>\n",
       "      <td>2022-11-01 18:18:19 +0700</td>\n",
       "      <td>done</td>\n",
       "      <td>Delivery</td>\n",
       "      <td>331c172c2b383f774328</td>\n",
       "      <td>110.003708</td>\n",
       "      <td>-7.710998</td>\n",
       "      <td>31815.0</td>\n",
       "      <td>True</td>\n",
       "      <td>MGL</td>\n",
       "      <td>Success</td>\n",
       "      <td>PURWODADI,PURWOREJO</td>\n",
       "      <td>YANG BERSANGKUTAN</td>\n",
       "      <td>D01</td>\n",
       "      <td>0.625</td>\n",
       "      <td>CGK</td>\n",
       "      <td>COLF01</td>\n",
       "    </tr>\n",
       "    <tr>\n",
       "      <th>4</th>\n",
       "      <td>2022-11-01 08:41:07 +0700</td>\n",
       "      <td>peacefulTacos6</td>\n",
       "      <td>2022-11-01 10:51:49 +0700</td>\n",
       "      <td>done</td>\n",
       "      <td>Delivery</td>\n",
       "      <td>a9d53fa96c80baee8b23</td>\n",
       "      <td>110.013887</td>\n",
       "      <td>-7.829742</td>\n",
       "      <td>144562.0</td>\n",
       "      <td>True</td>\n",
       "      <td>MGL</td>\n",
       "      <td>Success</td>\n",
       "      <td>BAGELEN,PURWOREJO</td>\n",
       "      <td>YANG BERSANGKUTAN</td>\n",
       "      <td>D01</td>\n",
       "      <td>3</td>\n",
       "      <td>CGK</td>\n",
       "      <td>COLF01</td>\n",
       "    </tr>\n",
       "    <tr>\n",
       "      <th>...</th>\n",
       "      <td>...</td>\n",
       "      <td>...</td>\n",
       "      <td>...</td>\n",
       "      <td>...</td>\n",
       "      <td>...</td>\n",
       "      <td>...</td>\n",
       "      <td>...</td>\n",
       "      <td>...</td>\n",
       "      <td>...</td>\n",
       "      <td>...</td>\n",
       "      <td>...</td>\n",
       "      <td>...</td>\n",
       "      <td>...</td>\n",
       "      <td>...</td>\n",
       "      <td>...</td>\n",
       "      <td>...</td>\n",
       "      <td>...</td>\n",
       "      <td>...</td>\n",
       "    </tr>\n",
       "    <tr>\n",
       "      <th>8329</th>\n",
       "      <td>2022-11-10 09:07:12 +0700</td>\n",
       "      <td>debonairPonie1</td>\n",
       "      <td>2022-11-10 09:38:04 +0700</td>\n",
       "      <td>done</td>\n",
       "      <td>Delivery</td>\n",
       "      <td>501af4e040a742e9e878</td>\n",
       "      <td>0.000000</td>\n",
       "      <td>0.000000</td>\n",
       "      <td>NaN</td>\n",
       "      <td>NaN</td>\n",
       "      <td>CGK</td>\n",
       "      <td>Success</td>\n",
       "      <td>PALMERAH ,JAKARTA BA</td>\n",
       "      <td>ATASAN/STAFF/KARYAWAN/BAWAHAN</td>\n",
       "      <td>D10</td>\n",
       "      <td>1</td>\n",
       "      <td>CGK</td>\n",
       "      <td>COLF01</td>\n",
       "    </tr>\n",
       "    <tr>\n",
       "      <th>8330</th>\n",
       "      <td>2022-11-10 09:21:42 +0700</td>\n",
       "      <td>murkyThrushe3</td>\n",
       "      <td>2022-11-10 09:37:52 +0700</td>\n",
       "      <td>done</td>\n",
       "      <td>Delivery</td>\n",
       "      <td>5cc952d9e9f8066dbf24</td>\n",
       "      <td>110.352054</td>\n",
       "      <td>-7.892571</td>\n",
       "      <td>NaN</td>\n",
       "      <td>NaN</td>\n",
       "      <td>JOG</td>\n",
       "      <td>Failed</td>\n",
       "      <td>KOTA BANTUL</td>\n",
       "      <td>ALAMAT TIDAK LENGKAP service/ TIDAK DIKENAL</td>\n",
       "      <td>U01</td>\n",
       "      <td>1</td>\n",
       "      <td>TGR</td>\n",
       "      <td>COLF02</td>\n",
       "    </tr>\n",
       "    <tr>\n",
       "      <th>8331</th>\n",
       "      <td>2022-11-10 09:36:44 +0700</td>\n",
       "      <td>enragedCake7</td>\n",
       "      <td>2022-11-10 09:37:55 +0700</td>\n",
       "      <td>done</td>\n",
       "      <td>Delivery</td>\n",
       "      <td>1b136b5a3c60749eb571</td>\n",
       "      <td>105.664897</td>\n",
       "      <td>-5.359063</td>\n",
       "      <td>NaN</td>\n",
       "      <td>NaN</td>\n",
       "      <td>TKG</td>\n",
       "      <td>Success</td>\n",
       "      <td>MARGA SEKAMPUNG KAB.</td>\n",
       "      <td>YANG BERSANGKUTAN</td>\n",
       "      <td>D01</td>\n",
       "      <td>1.44</td>\n",
       "      <td>CGK</td>\n",
       "      <td>COLF01</td>\n",
       "    </tr>\n",
       "    <tr>\n",
       "      <th>8332</th>\n",
       "      <td>2022-11-10 07:25:40 +0700</td>\n",
       "      <td>lyingPaella2</td>\n",
       "      <td>2022-11-10 10:37:53 +0800</td>\n",
       "      <td>done</td>\n",
       "      <td>Delivery</td>\n",
       "      <td>e92e813c8539080c922e</td>\n",
       "      <td>119.877173</td>\n",
       "      <td>-8.513305</td>\n",
       "      <td>151000.0</td>\n",
       "      <td>False</td>\n",
       "      <td>KOE</td>\n",
       "      <td>Failed</td>\n",
       "      <td>KOMODO,LABUAN BAJO</td>\n",
       "      <td>PENERIMA PINDAH ALAMAT</td>\n",
       "      <td>U03</td>\n",
       "      <td>0.6</td>\n",
       "      <td>CGK</td>\n",
       "      <td>COLF02</td>\n",
       "    </tr>\n",
       "    <tr>\n",
       "      <th>8333</th>\n",
       "      <td>2022-11-10 07:46:13 +0700</td>\n",
       "      <td>emptyPretzels3</td>\n",
       "      <td>2022-11-10 09:37:50 +0700</td>\n",
       "      <td>done</td>\n",
       "      <td>Delivery</td>\n",
       "      <td>cdb90c597655282306fd</td>\n",
       "      <td>0.000000</td>\n",
       "      <td>0.000000</td>\n",
       "      <td>NaN</td>\n",
       "      <td>NaN</td>\n",
       "      <td>CGK</td>\n",
       "      <td>Success</td>\n",
       "      <td>JAKARTA PUSAT</td>\n",
       "      <td>RECEPTIONIST</td>\n",
       "      <td>D02</td>\n",
       "      <td>1</td>\n",
       "      <td>BPN</td>\n",
       "      <td>COLF01</td>\n",
       "    </tr>\n",
       "  </tbody>\n",
       "</table>\n",
       "<p>8334 rows × 18 columns</p>\n",
       "</div>"
      ],
      "text/plain": [
       "                taskCreatedTime  taskAssignedTo          taskCompletedTime  \\\n",
       "0     2022-11-01 20:17:26 +0700   pacifiedLion0  2022-11-01 20:46:30 +0700   \n",
       "1     2022-11-01 08:41:07 +0700  peacefulTacos6  2022-11-01 12:33:48 +0700   \n",
       "2     2022-11-01 08:41:07 +0700  peacefulTacos6  2022-11-01 13:41:57 +0700   \n",
       "3     2022-11-01 08:41:07 +0700  peacefulTacos6  2022-11-01 18:18:19 +0700   \n",
       "4     2022-11-01 08:41:07 +0700  peacefulTacos6  2022-11-01 10:51:49 +0700   \n",
       "...                         ...             ...                        ...   \n",
       "8329  2022-11-10 09:07:12 +0700  debonairPonie1  2022-11-10 09:38:04 +0700   \n",
       "8330  2022-11-10 09:21:42 +0700   murkyThrushe3  2022-11-10 09:37:52 +0700   \n",
       "8331  2022-11-10 09:36:44 +0700    enragedCake7  2022-11-10 09:37:55 +0700   \n",
       "8332  2022-11-10 07:25:40 +0700    lyingPaella2  2022-11-10 10:37:53 +0800   \n",
       "8333  2022-11-10 07:46:13 +0700  emptyPretzels3  2022-11-10 09:37:50 +0700   \n",
       "\n",
       "     taskStatus      flow                taskId  taskLocationDone.lon  \\\n",
       "0          done  Delivery  4fe3b237c832ca4841a2            109.762910   \n",
       "1          done  Delivery  08a4da25256affae8446            110.033986   \n",
       "2          done  Delivery  2ff0dc469826158b7684            109.999733   \n",
       "3          done  Delivery  331c172c2b383f774328            110.003708   \n",
       "4          done  Delivery  a9d53fa96c80baee8b23            110.013887   \n",
       "...         ...       ...                   ...                   ...   \n",
       "8329       done  Delivery  501af4e040a742e9e878              0.000000   \n",
       "8330       done  Delivery  5cc952d9e9f8066dbf24            110.352054   \n",
       "8331       done  Delivery  1b136b5a3c60749eb571            105.664897   \n",
       "8332       done  Delivery  e92e813c8539080c922e            119.877173   \n",
       "8333       done  Delivery  cdb90c597655282306fd              0.000000   \n",
       "\n",
       "      taskLocationDone.lat  cod.amount cod.received UserVar.branch_dest  \\\n",
       "0                -6.926608    685000.0         True                 SRG   \n",
       "1                -7.876154     53500.0         True                 MGL   \n",
       "2                -7.849777    179500.0         True                 MGL   \n",
       "3                -7.710998     31815.0         True                 MGL   \n",
       "4                -7.829742    144562.0         True                 MGL   \n",
       "...                    ...         ...          ...                 ...   \n",
       "8329              0.000000         NaN          NaN                 CGK   \n",
       "8330             -7.892571         NaN          NaN                 JOG   \n",
       "8331             -5.359063         NaN          NaN                 TKG   \n",
       "8332             -8.513305    151000.0        False                 KOE   \n",
       "8333              0.000000         NaN          NaN                 CGK   \n",
       "\n",
       "     UserVar.taskStatusLabel UserVar.receiver_city  \\\n",
       "0                    Success    BATANG ,KAB BATANG   \n",
       "1                    Success   PURWODADI,PURWOREJO   \n",
       "2                    Success   PURWODADI,PURWOREJO   \n",
       "3                    Success   PURWODADI,PURWOREJO   \n",
       "4                    Success     BAGELEN,PURWOREJO   \n",
       "...                      ...                   ...   \n",
       "8329                 Success  PALMERAH ,JAKARTA BA   \n",
       "8330                  Failed           KOTA BANTUL   \n",
       "8331                 Success  MARGA SEKAMPUNG KAB.   \n",
       "8332                  Failed    KOMODO,LABUAN BAJO   \n",
       "8333                 Success         JAKARTA PUSAT   \n",
       "\n",
       "                    UserVar.taskDetailStatusLabel UserVar.taskDetailStatus  \\\n",
       "0                               YANG BERSANGKUTAN                      D01   \n",
       "1                               YANG BERSANGKUTAN                      D01   \n",
       "2                               YANG BERSANGKUTAN                      D01   \n",
       "3                               YANG BERSANGKUTAN                      D01   \n",
       "4                               YANG BERSANGKUTAN                      D01   \n",
       "...                                           ...                      ...   \n",
       "8329                ATASAN/STAFF/KARYAWAN/BAWAHAN                      D10   \n",
       "8330  ALAMAT TIDAK LENGKAP service/ TIDAK DIKENAL                      U01   \n",
       "8331                            YANG BERSANGKUTAN                      D01   \n",
       "8332                       PENERIMA PINDAH ALAMAT                      U03   \n",
       "8333                                 RECEPTIONIST                      D02   \n",
       "\n",
       "     UserVar.weight UserVar.branch_origin UserVar.taskStatus  \n",
       "0                13                   CGK             COLF01  \n",
       "1               1.3                   CGK             COLF01  \n",
       "2                 3                   CGK             COLF01  \n",
       "3             0.625                   CGK             COLF01  \n",
       "4                 3                   CGK             COLF01  \n",
       "...             ...                   ...                ...  \n",
       "8329              1                   CGK             COLF01  \n",
       "8330              1                   TGR             COLF02  \n",
       "8331           1.44                   CGK             COLF01  \n",
       "8332            0.6                   CGK             COLF02  \n",
       "8333              1                   BPN             COLF01  \n",
       "\n",
       "[8334 rows x 18 columns]"
      ]
     },
     "execution_count": 4,
     "metadata": {},
     "output_type": "execute_result"
    }
   ],
   "source": [
    "df = pd.json_normalize(data)\n",
    "df"
   ]
  },
  {
   "cell_type": "code",
   "execution_count": 5,
   "id": "e8325a59",
   "metadata": {},
   "outputs": [
    {
     "name": "stdout",
     "output_type": "stream",
     "text": [
      "<class 'pandas.core.frame.DataFrame'>\n",
      "RangeIndex: 8334 entries, 0 to 8333\n",
      "Data columns (total 18 columns):\n",
      " #   Column                         Non-Null Count  Dtype  \n",
      "---  ------                         --------------  -----  \n",
      " 0   taskCreatedTime                8334 non-null   object \n",
      " 1   taskAssignedTo                 8333 non-null   object \n",
      " 2   taskCompletedTime              7566 non-null   object \n",
      " 3   taskStatus                     8334 non-null   object \n",
      " 4   flow                           8334 non-null   object \n",
      " 5   taskId                         8334 non-null   object \n",
      " 6   taskLocationDone.lon           7566 non-null   float64\n",
      " 7   taskLocationDone.lat           7566 non-null   float64\n",
      " 8   cod.amount                     2358 non-null   float64\n",
      " 9   cod.received                   2358 non-null   object \n",
      " 10  UserVar.branch_dest            8334 non-null   object \n",
      " 11  UserVar.taskStatusLabel        7572 non-null   object \n",
      " 12  UserVar.receiver_city          8282 non-null   object \n",
      " 13  UserVar.taskDetailStatusLabel  7572 non-null   object \n",
      " 14  UserVar.taskDetailStatus       7572 non-null   object \n",
      " 15  UserVar.weight                 8334 non-null   object \n",
      " 16  UserVar.branch_origin          8041 non-null   object \n",
      " 17  UserVar.taskStatus             7572 non-null   object \n",
      "dtypes: float64(3), object(15)\n",
      "memory usage: 1.1+ MB\n"
     ]
    }
   ],
   "source": [
    "df.info()"
   ]
  },
  {
   "cell_type": "markdown",
   "id": "9f319b58",
   "metadata": {},
   "source": [
    "As we can see there are several columns with missing values. We will try to breakdown the missing values one by one.\n",
    "\n",
    "cod.amount and cod.received tell us about how much the amount of CoD and the CoD has been received or not. If the value is empty, it means that the transaction's payment method isn't CoD system. It could be by transfer or something else. Then we will handle the missing values of both columns by fill it with 0 and 'False'\n",
    "\n",
    "\"taskCompletedTime\", \"taskLocationDone.lon\", and \"taskLocationDone.lat\" tell us about when and where the task is completed. "
   ]
  },
  {
   "cell_type": "markdown",
   "id": "e8c3eed2",
   "metadata": {},
   "source": [
    "## Task Duration Analysis"
   ]
  },
  {
   "cell_type": "markdown",
   "id": "78f6fcf2",
   "metadata": {},
   "source": [
    "Task Duration Analysis: Calculate the duration of each task by subtracting the task's creation time from its completion time. This analysis can help identify the average or median task duration, identify outliers or unusually long/short tasks, and assess the efficiency of task completion."
   ]
  },
  {
   "cell_type": "code",
   "execution_count": 6,
   "id": "2fa5adba",
   "metadata": {},
   "outputs": [
    {
     "data": {
      "image/png": "[encoded data removed]",
      "text/plain": [
       "<Figure size 1000x600 with 2 Axes>"
      ]
     },
     "metadata": {},
     "output_type": "display_data"
    }
   ],
   "source": [
    "# Convert the taskCreatedTime and taskCompletedTime columns to datetime with UTC timezone\n",
    "df['taskCreatedTime'] = pd.to_datetime(df['taskCreatedTime'], utc=True)\n",
    "df['taskCompletedTime'] = pd.to_datetime(df['taskCompletedTime'], utc=True)\n",
    "\n",
    "# Convert weight feature to float\n",
    "df['UserVar.weight'] = df['UserVar.weight'].astype(float)\n",
    "\n",
    "# Calculate task duration\n",
    "df['taskDuration'] = df['taskCompletedTime'] - df['taskCreatedTime']\n",
    "\n",
    "# Convert taskDuration to numeric data type\n",
    "df['taskDuration'] = df['taskDuration'].dt.total_seconds()/3600\n",
    "\n",
    "# Plotting Task Duration Analysis\n",
    "plt.figure(figsize=(10, 6))\n",
    "\n",
    "# Histogram of task durations\n",
    "plt.subplot(1, 2, 1)\n",
    "sns.histplot(df['taskDuration'], kde=True)\n",
    "plt.xlabel('Task Duration')\n",
    "plt.ylabel('Count')\n",
    "plt.title('Distribution of Task Durations')\n",
    "\n",
    "# Box plot of task durations\n",
    "plt.subplot(1, 2, 2)\n",
    "boxplot = sns.boxplot(y=df['taskDuration'])\n",
    "plt.ylabel('Task Duration')\n",
    "plt.title('Box Plot of Task Durations')\n",
    "\n",
    "plt.tight_layout()\n",
    "plt.show()"
   ]
  },
  {
   "cell_type": "markdown",
   "id": "e93d16a6",
   "metadata": {},
   "source": [
    "From both of those graphs. We could get several insights:\n",
    "1. Task Completion Efficiency: The right-skewed distribution means the majority of the task are completed quickly. The majority of the task handled promptly, potentially resulting in higher customer satisfaction and timely service delivery.\n",
    "2. Resources efficiency: Since most of the task are completed quickly. It means that current resources could handle the task pretty efficiently.\n",
    "3. Indetifying Outliers: There are still several outliers which took longer hours compared to the average, ranging from 4 all the way up to 12 hours. These outliers need to be analysed separately to know what the problem was? Why did it take longer to completed compared to the average?."
   ]
  },
  {
   "cell_type": "markdown",
   "id": "36e64cb8",
   "metadata": {},
   "source": [
    "### Outlier Analysis"
   ]
  },
  {
   "cell_type": "markdown",
   "id": "c5886782",
   "metadata": {},
   "source": [
    "#### Workers with longest hour needed to complete tasks"
   ]
  },
  {
   "cell_type": "code",
   "execution_count": 7,
   "id": "bbfa7387",
   "metadata": {},
   "outputs": [
    {
     "data": {
      "text/html": [
       "<div>\n",
       "<style scoped>\n",
       "    .dataframe tbody tr th:only-of-type {\n",
       "        vertical-align: middle;\n",
       "    }\n",
       "\n",
       "    .dataframe tbody tr th {\n",
       "        vertical-align: top;\n",
       "    }\n",
       "\n",
       "    .dataframe thead th {\n",
       "        text-align: right;\n",
       "    }\n",
       "</style>\n",
       "<table border=\"1\" class=\"dataframe\">\n",
       "  <thead>\n",
       "    <tr style=\"text-align: right;\">\n",
       "      <th></th>\n",
       "      <th>AssignedTo</th>\n",
       "      <th>Count</th>\n",
       "    </tr>\n",
       "  </thead>\n",
       "  <tbody>\n",
       "    <tr>\n",
       "      <th>0</th>\n",
       "      <td>affectedKitten8</td>\n",
       "      <td>41</td>\n",
       "    </tr>\n",
       "    <tr>\n",
       "      <th>1</th>\n",
       "      <td>soreTomatoe9</td>\n",
       "      <td>30</td>\n",
       "    </tr>\n",
       "    <tr>\n",
       "      <th>2</th>\n",
       "      <td>emptyIcecream6</td>\n",
       "      <td>28</td>\n",
       "    </tr>\n",
       "    <tr>\n",
       "      <th>3</th>\n",
       "      <td>wornoutEggs4</td>\n",
       "      <td>24</td>\n",
       "    </tr>\n",
       "    <tr>\n",
       "      <th>4</th>\n",
       "      <td>peacefulVenison0</td>\n",
       "      <td>21</td>\n",
       "    </tr>\n",
       "  </tbody>\n",
       "</table>\n",
       "</div>"
      ],
      "text/plain": [
       "         AssignedTo  Count\n",
       "0   affectedKitten8     41\n",
       "1      soreTomatoe9     30\n",
       "2    emptyIcecream6     28\n",
       "3      wornoutEggs4     24\n",
       "4  peacefulVenison0     21"
      ]
     },
     "execution_count": 7,
     "metadata": {},
     "output_type": "execute_result"
    }
   ],
   "source": [
    "# Calculate the interquartile range (IQR)\n",
    "Q1 = df['taskDuration'].quantile(0.25)\n",
    "Q3 = df['taskDuration'].quantile(0.75)\n",
    "IQR = Q3 - Q1\n",
    "\n",
    "# Set the lower and upper bounds for outliers\n",
    "lower_bound = Q1 - 1.5 * IQR\n",
    "upper_bound = Q3 + 1.5 * IQR\n",
    "\n",
    "# Filter the data to include only the outliers\n",
    "outlier_data = df[(df['taskDuration'] < lower_bound) | (df['taskDuration'] > upper_bound)]\n",
    "non_outlier_data = df[(df['taskDuration'] > lower_bound) | (df['taskDuration'] < upper_bound)]\n",
    "outlier_data = pd.DataFrame(outlier_data)\n",
    "non_outlier_data = pd.DataFrame(non_outlier_data)\n",
    "\n",
    "outlier_data['taskAssignedTo'].value_counts().reset_index().rename(columns={'index':'AssignedTo',\n",
    "                                                                           'taskAssignedTo':'Count'}).head()"
   ]
  },
  {
   "cell_type": "code",
   "execution_count": 8,
   "id": "0e8391d7",
   "metadata": {},
   "outputs": [
    {
     "data": {
      "text/plain": [
       "array(['affectedKitten8', 'soreTomatoe9', 'emptyIcecream6',\n",
       "       'wornoutEggs4', 'peacefulVenison0'], dtype=object)"
      ]
     },
     "execution_count": 8,
     "metadata": {},
     "output_type": "execute_result"
    }
   ],
   "source": [
    "test = outlier_data['taskAssignedTo'].value_counts().reset_index().rename(columns={'index':'AssignedTo',\n",
    "                                                                           'taskAssignedTo':'Count'}).head()\n",
    "test['AssignedTo'].unique()"
   ]
  },
  {
   "cell_type": "markdown",
   "id": "c1453d91",
   "metadata": {},
   "source": [
    "As we can see these are top 5 workers who have task duration falls in outlier zone."
   ]
  },
  {
   "cell_type": "markdown",
   "id": "4adb5a67",
   "metadata": {},
   "source": [
    "#### Destination with longest hour needed to complete task"
   ]
  },
  {
   "cell_type": "code",
   "execution_count": 9,
   "id": "78bff4b9",
   "metadata": {},
   "outputs": [
    {
     "data": {
      "text/html": [
       "<div>\n",
       "<style scoped>\n",
       "    .dataframe tbody tr th:only-of-type {\n",
       "        vertical-align: middle;\n",
       "    }\n",
       "\n",
       "    .dataframe tbody tr th {\n",
       "        vertical-align: top;\n",
       "    }\n",
       "\n",
       "    .dataframe thead th {\n",
       "        text-align: right;\n",
       "    }\n",
       "</style>\n",
       "<table border=\"1\" class=\"dataframe\">\n",
       "  <thead>\n",
       "    <tr style=\"text-align: right;\">\n",
       "      <th></th>\n",
       "      <th>Destination</th>\n",
       "      <th>count</th>\n",
       "    </tr>\n",
       "  </thead>\n",
       "  <tbody>\n",
       "    <tr>\n",
       "      <th>31</th>\n",
       "      <td>MGL</td>\n",
       "      <td>95</td>\n",
       "    </tr>\n",
       "    <tr>\n",
       "      <th>3</th>\n",
       "      <td>BDO</td>\n",
       "      <td>81</td>\n",
       "    </tr>\n",
       "    <tr>\n",
       "      <th>14</th>\n",
       "      <td>CLG</td>\n",
       "      <td>75</td>\n",
       "    </tr>\n",
       "    <tr>\n",
       "      <th>12</th>\n",
       "      <td>CGK</td>\n",
       "      <td>67</td>\n",
       "    </tr>\n",
       "    <tr>\n",
       "      <th>48</th>\n",
       "      <td>SRG</td>\n",
       "      <td>50</td>\n",
       "    </tr>\n",
       "  </tbody>\n",
       "</table>\n",
       "</div>"
      ],
      "text/plain": [
       "   Destination  count\n",
       "31         MGL     95\n",
       "3          BDO     81\n",
       "14         CLG     75\n",
       "12         CGK     67\n",
       "48         SRG     50"
      ]
     },
     "execution_count": 9,
     "metadata": {},
     "output_type": "execute_result"
    }
   ],
   "source": [
    "outlier_data.groupby(['UserVar.branch_dest']).size().reset_index().sort_values(by = 0,ascending=False).rename(columns={'UserVar.branch_dest':'Destination',\n",
    "                                                                                                                      0:'count'}).head()"
   ]
  },
  {
   "cell_type": "markdown",
   "id": "1eb1bda2",
   "metadata": {},
   "source": [
    "As we can see those 5 branches are the branches that fall into outlier zone."
   ]
  },
  {
   "cell_type": "markdown",
   "id": "85682318",
   "metadata": {},
   "source": [
    "#### Weight of product in outlier zone"
   ]
  },
  {
   "cell_type": "code",
   "execution_count": 10,
   "id": "bdd90b83",
   "metadata": {},
   "outputs": [
    {
     "data": {
      "text/plain": [
       "Text(0.5, 1.0, 'Distribution of Weight (outlier)')"
      ]
     },
     "execution_count": 10,
     "metadata": {},
     "output_type": "execute_result"
    },
    {
     "data": {
      "image/png": "[encoded data removed]",
      "text/plain": [
       "<Figure size 1500x600 with 2 Axes>"
      ]
     },
     "metadata": {},
     "output_type": "display_data"
    }
   ],
   "source": [
    "# Plotting Task Duration Analysis\n",
    "plt.figure(figsize=(15, 6))\n",
    "\n",
    "# Histogram of task durations\n",
    "plt.subplot(1, 2, 1)\n",
    "sns.kdeplot(non_outlier_data['UserVar.weight'])\n",
    "plt.xlabel('Product Weight')\n",
    "plt.ylabel('Count')\n",
    "std_dev = non_outlier_data['UserVar.weight'].std()\n",
    "plt.gca().text(0.6, 0.8, f'Standard Deviation: {std_dev:.2f}', transform=plt.gca().transAxes)\n",
    "plt.title('Distribution of Weight (non outlier)')\n",
    "\n",
    "plt.subplot(1, 2, 2)\n",
    "sns.kdeplot(outlier_data['UserVar.weight'])\n",
    "plt.xlabel('Product Weight')\n",
    "plt.ylabel('Count')\n",
    "std_dev = outlier_data['UserVar.weight'].std()\n",
    "plt.gca().text(0.6, 0.8, f'Standard Deviation: {std_dev:.2f}', transform=plt.gca().transAxes)\n",
    "plt.title('Distribution of Weight (outlier)')"
   ]
  },
  {
   "cell_type": "markdown",
   "id": "dabf1bf4",
   "metadata": {},
   "source": [
    "As we can see the data that falls in outlier zone tends to have smaller standard deviation than the counterpart. It means that the weight of the product that has longer task duration tends to be in lower weight."
   ]
  },
  {
   "cell_type": "markdown",
   "id": "1a387fad",
   "metadata": {},
   "source": [
    "## Task Status Analysis"
   ]
  },
  {
   "cell_type": "markdown",
   "id": "f76fc158",
   "metadata": {},
   "source": [
    "Task Status Analysis: Explore the distribution of task statuses to understand the overall performance. You can calculate the percentage of tasks marked as \"done,\" \"in progress,\" or \"pending.\" This analysis can help identify bottlenecks or areas that require improvement in task management and completion."
   ]
  },
  {
   "cell_type": "code",
   "execution_count": 11,
   "id": "ab6668df",
   "metadata": {},
   "outputs": [
    {
     "data": {
      "image/png": "[encoded data removed]",
      "text/plain": [
       "<Figure size 800x600 with 1 Axes>"
      ]
     },
     "metadata": {},
     "output_type": "display_data"
    }
   ],
   "source": [
    "# Count the frequency of each task status label\n",
    "status_counts = df['UserVar.taskStatusLabel'].value_counts()\n",
    "\n",
    "# Calculate the percentage of successful and failed deliveries\n",
    "total_deliveries = status_counts.sum()\n",
    "successful_deliveries = status_counts['Success']\n",
    "failed_deliveries = status_counts['Failed']\n",
    "success_percentage = (successful_deliveries / total_deliveries) * 100\n",
    "failure_percentage = (failed_deliveries / total_deliveries) * 100\n",
    "\n",
    "# Plotting Task Status Analysis\n",
    "plt.figure(figsize=(8, 6))\n",
    "status_counts.plot(kind='bar')\n",
    "plt.xlabel('Task Status')\n",
    "plt.ylabel('Frequency')\n",
    "plt.title('Task Status Analysis')\n",
    "\n",
    "# Annotate the percentages on the bars\n",
    "plt.text(0, status_counts['Success'], f'{success_percentage:.1f}%', ha='center', va='bottom')\n",
    "plt.text(1, status_counts['Failed'], f'{failure_percentage:.1f}%', ha='center', va='bottom')\n",
    "\n",
    "plt.show()"
   ]
  },
  {
   "cell_type": "markdown",
   "id": "184f78e8",
   "metadata": {},
   "source": [
    "As we can see from the graph above, we can coclude several insights:\n",
    "1. Most tasks are marked as \"success\" indicates a high completion rate. It suggests that the majority of tasks are being successfully completed within the expected timeframe. This can be a positive indicator of efficiency and effectiveness in task management.\n",
    "2. The higher number of tasks marked as \"Success\" implies that the workflow or processes in place are generally efficient. It could means that the workflow is efficient enough that most of the tasks are already done.\n",
    "3. There are 28.3% tasks marked as \"Failed\". This number is a little bit high for a \"Failed\" task so we need to do further analysis of why those tasks can be failed.\n",
    "\n",
    "Next I'll try to analyze the characteristics of failed task"
   ]
  },
  {
   "cell_type": "markdown",
   "id": "6132cf06",
   "metadata": {},
   "source": [
    "### Task Failed Analysis"
   ]
  },
  {
   "cell_type": "code",
   "execution_count": 12,
   "id": "80c91724",
   "metadata": {},
   "outputs": [],
   "source": [
    "task_failed = df[df['UserVar.taskStatusLabel'] == 'Failed']\n",
    "task_success = df[df['UserVar.taskStatusLabel'] == 'Success']"
   ]
  },
  {
   "cell_type": "code",
   "execution_count": 13,
   "id": "6e5a8841",
   "metadata": {},
   "outputs": [
    {
     "data": {
      "text/html": [
       "<div>\n",
       "<style scoped>\n",
       "    .dataframe tbody tr th:only-of-type {\n",
       "        vertical-align: middle;\n",
       "    }\n",
       "\n",
       "    .dataframe tbody tr th {\n",
       "        vertical-align: top;\n",
       "    }\n",
       "\n",
       "    .dataframe thead th {\n",
       "        text-align: right;\n",
       "    }\n",
       "</style>\n",
       "<table border=\"1\" class=\"dataframe\">\n",
       "  <thead>\n",
       "    <tr style=\"text-align: right;\">\n",
       "      <th></th>\n",
       "      <th>taskLocationDone.lon</th>\n",
       "      <th>taskLocationDone.lat</th>\n",
       "      <th>cod.amount</th>\n",
       "      <th>UserVar.weight</th>\n",
       "      <th>taskDuration</th>\n",
       "    </tr>\n",
       "  </thead>\n",
       "  <tbody>\n",
       "    <tr>\n",
       "      <th>count</th>\n",
       "      <td>5421.000000</td>\n",
       "      <td>5421.000000</td>\n",
       "      <td>7.390000e+02</td>\n",
       "      <td>5427.00000</td>\n",
       "      <td>5421.000000</td>\n",
       "    </tr>\n",
       "    <tr>\n",
       "      <th>mean</th>\n",
       "      <td>78.713590</td>\n",
       "      <td>-3.935089</td>\n",
       "      <td>1.391527e+05</td>\n",
       "      <td>2.84180</td>\n",
       "      <td>1.550287</td>\n",
       "    </tr>\n",
       "    <tr>\n",
       "      <th>std</th>\n",
       "      <td>50.823398</td>\n",
       "      <td>3.650776</td>\n",
       "      <td>1.878955e+05</td>\n",
       "      <td>6.97327</td>\n",
       "      <td>1.814971</td>\n",
       "    </tr>\n",
       "    <tr>\n",
       "      <th>min</th>\n",
       "      <td>0.000000</td>\n",
       "      <td>-10.493658</td>\n",
       "      <td>8.370000e+02</td>\n",
       "      <td>0.00000</td>\n",
       "      <td>0.004167</td>\n",
       "    </tr>\n",
       "    <tr>\n",
       "      <th>25%</th>\n",
       "      <td>0.000000</td>\n",
       "      <td>-7.173321</td>\n",
       "      <td>3.967050e+04</td>\n",
       "      <td>1.00000</td>\n",
       "      <td>0.441667</td>\n",
       "    </tr>\n",
       "    <tr>\n",
       "      <th>50%</th>\n",
       "      <td>106.977430</td>\n",
       "      <td>-5.886562</td>\n",
       "      <td>9.340000e+04</td>\n",
       "      <td>1.00000</td>\n",
       "      <td>0.898056</td>\n",
       "    </tr>\n",
       "    <tr>\n",
       "      <th>75%</th>\n",
       "      <td>112.312455</td>\n",
       "      <td>0.000000</td>\n",
       "      <td>1.828750e+05</td>\n",
       "      <td>2.00000</td>\n",
       "      <td>1.804722</td>\n",
       "    </tr>\n",
       "    <tr>\n",
       "      <th>max</th>\n",
       "      <td>140.806424</td>\n",
       "      <td>5.564040</td>\n",
       "      <td>2.711000e+06</td>\n",
       "      <td>202.50000</td>\n",
       "      <td>13.266667</td>\n",
       "    </tr>\n",
       "  </tbody>\n",
       "</table>\n",
       "</div>"
      ],
      "text/plain": [
       "       taskLocationDone.lon  taskLocationDone.lat    cod.amount  \\\n",
       "count           5421.000000           5421.000000  7.390000e+02   \n",
       "mean              78.713590             -3.935089  1.391527e+05   \n",
       "std               50.823398              3.650776  1.878955e+05   \n",
       "min                0.000000            -10.493658  8.370000e+02   \n",
       "25%                0.000000             -7.173321  3.967050e+04   \n",
       "50%              106.977430             -5.886562  9.340000e+04   \n",
       "75%              112.312455              0.000000  1.828750e+05   \n",
       "max              140.806424              5.564040  2.711000e+06   \n",
       "\n",
       "       UserVar.weight  taskDuration  \n",
       "count      5427.00000   5421.000000  \n",
       "mean          2.84180      1.550287  \n",
       "std           6.97327      1.814971  \n",
       "min           0.00000      0.004167  \n",
       "25%           1.00000      0.441667  \n",
       "50%           1.00000      0.898056  \n",
       "75%           2.00000      1.804722  \n",
       "max         202.50000     13.266667  "
      ]
     },
     "execution_count": 13,
     "metadata": {},
     "output_type": "execute_result"
    }
   ],
   "source": [
    "task_success.describe()"
   ]
  },
  {
   "cell_type": "code",
   "execution_count": 14,
   "id": "92e301d8",
   "metadata": {},
   "outputs": [
    {
     "data": {
      "text/html": [
       "<div>\n",
       "<style scoped>\n",
       "    .dataframe tbody tr th:only-of-type {\n",
       "        vertical-align: middle;\n",
       "    }\n",
       "\n",
       "    .dataframe tbody tr th {\n",
       "        vertical-align: top;\n",
       "    }\n",
       "\n",
       "    .dataframe thead th {\n",
       "        text-align: right;\n",
       "    }\n",
       "</style>\n",
       "<table border=\"1\" class=\"dataframe\">\n",
       "  <thead>\n",
       "    <tr style=\"text-align: right;\">\n",
       "      <th></th>\n",
       "      <th>taskLocationDone.lon</th>\n",
       "      <th>taskLocationDone.lat</th>\n",
       "      <th>cod.amount</th>\n",
       "      <th>UserVar.weight</th>\n",
       "      <th>taskDuration</th>\n",
       "    </tr>\n",
       "  </thead>\n",
       "  <tbody>\n",
       "    <tr>\n",
       "      <th>count</th>\n",
       "      <td>2145.000000</td>\n",
       "      <td>2145.000000</td>\n",
       "      <td>1.235000e+03</td>\n",
       "      <td>2145.000000</td>\n",
       "      <td>2145.000000</td>\n",
       "    </tr>\n",
       "    <tr>\n",
       "      <th>mean</th>\n",
       "      <td>66.869932</td>\n",
       "      <td>-2.790223</td>\n",
       "      <td>2.006836e+05</td>\n",
       "      <td>1.443627</td>\n",
       "      <td>0.364069</td>\n",
       "    </tr>\n",
       "    <tr>\n",
       "      <th>std</th>\n",
       "      <td>55.605349</td>\n",
       "      <td>3.507421</td>\n",
       "      <td>3.131134e+05</td>\n",
       "      <td>4.019199</td>\n",
       "      <td>0.798937</td>\n",
       "    </tr>\n",
       "    <tr>\n",
       "      <th>min</th>\n",
       "      <td>0.000000</td>\n",
       "      <td>-10.491860</td>\n",
       "      <td>2.955000e+03</td>\n",
       "      <td>0.000000</td>\n",
       "      <td>0.005833</td>\n",
       "    </tr>\n",
       "    <tr>\n",
       "      <th>25%</th>\n",
       "      <td>0.000000</td>\n",
       "      <td>-6.739677</td>\n",
       "      <td>7.156300e+04</td>\n",
       "      <td>0.550000</td>\n",
       "      <td>0.037500</td>\n",
       "    </tr>\n",
       "    <tr>\n",
       "      <th>50%</th>\n",
       "      <td>106.107953</td>\n",
       "      <td>-0.517458</td>\n",
       "      <td>1.580000e+05</td>\n",
       "      <td>1.000000</td>\n",
       "      <td>0.100000</td>\n",
       "    </tr>\n",
       "    <tr>\n",
       "      <th>75%</th>\n",
       "      <td>111.904243</td>\n",
       "      <td>0.000000</td>\n",
       "      <td>2.329750e+05</td>\n",
       "      <td>1.000000</td>\n",
       "      <td>0.341111</td>\n",
       "    </tr>\n",
       "    <tr>\n",
       "      <th>max</th>\n",
       "      <td>140.804728</td>\n",
       "      <td>3.734822</td>\n",
       "      <td>4.730000e+06</td>\n",
       "      <td>116.000000</td>\n",
       "      <td>6.737778</td>\n",
       "    </tr>\n",
       "  </tbody>\n",
       "</table>\n",
       "</div>"
      ],
      "text/plain": [
       "       taskLocationDone.lon  taskLocationDone.lat    cod.amount  \\\n",
       "count           2145.000000           2145.000000  1.235000e+03   \n",
       "mean              66.869932             -2.790223  2.006836e+05   \n",
       "std               55.605349              3.507421  3.131134e+05   \n",
       "min                0.000000            -10.491860  2.955000e+03   \n",
       "25%                0.000000             -6.739677  7.156300e+04   \n",
       "50%              106.107953             -0.517458  1.580000e+05   \n",
       "75%              111.904243              0.000000  2.329750e+05   \n",
       "max              140.804728              3.734822  4.730000e+06   \n",
       "\n",
       "       UserVar.weight  taskDuration  \n",
       "count     2145.000000   2145.000000  \n",
       "mean         1.443627      0.364069  \n",
       "std          4.019199      0.798937  \n",
       "min          0.000000      0.005833  \n",
       "25%          0.550000      0.037500  \n",
       "50%          1.000000      0.100000  \n",
       "75%          1.000000      0.341111  \n",
       "max        116.000000      6.737778  "
      ]
     },
     "execution_count": 14,
     "metadata": {},
     "output_type": "execute_result"
    }
   ],
   "source": [
    "task_failed.describe()"
   ]
  },
  {
   "cell_type": "code",
   "execution_count": 55,
   "id": "63d42cbd",
   "metadata": {},
   "outputs": [
    {
     "data": {
      "text/plain": [
       "Text(0.5, 1.0, 'Distribution of Weight (Failed)')"
      ]
     },
     "execution_count": 55,
     "metadata": {},
     "output_type": "execute_result"
    },
    {
     "data": {
      "image/png": "[encoded data removed]",
      "text/plain": [
       "<Figure size 1500x600 with 2 Axes>"
      ]
     },
     "metadata": {},
     "output_type": "display_data"
    }
   ],
   "source": [
    "# Plotting Task Duration Analysis\n",
    "plt.figure(figsize=(15, 6))\n",
    "\n",
    "# Histogram of task durations\n",
    "plt.subplot(1, 2, 1)\n",
    "sns.kdeplot(task_success['UserVar.weight'])\n",
    "plt.xlabel('Product Weight')\n",
    "plt.ylabel('Count')\n",
    "std_dev = task_success['UserVar.weight'].std()\n",
    "plt.gca().text(0.6, 0.8, f'Standard Deviation: {std_dev:.2f}', transform=plt.gca().transAxes)\n",
    "plt.title('Distribution of Weight (Success)')\n",
    "\n",
    "plt.subplot(1, 2, 2)\n",
    "sns.kdeplot(task_failed['UserVar.weight'])\n",
    "plt.xlabel('Product Weight')\n",
    "plt.ylabel('Count')\n",
    "std_dev = task_failed['UserVar.weight'].std()\n",
    "plt.gca().text(0.6, 0.8, f'Standard Deviation: {std_dev:.2f}', transform=plt.gca().transAxes)\n",
    "plt.title('Distribution of Weight (Failed)')"
   ]
  },
  {
   "cell_type": "markdown",
   "id": "5ed07004",
   "metadata": {},
   "source": [
    "From weight perspective. The task that was failed has lower standard deviation which means product with lower weight more likely to be fail than the higher weight."
   ]
  },
  {
   "cell_type": "code",
   "execution_count": 57,
   "id": "d8f1e42b",
   "metadata": {},
   "outputs": [
    {
     "data": {
      "image/png": "[encoded data removed]",
      "text/plain": [
       "<Figure size 1000x500 with 1 Axes>"
      ]
     },
     "metadata": {},
     "output_type": "display_data"
    }
   ],
   "source": [
    "reason_count = task_failed['UserVar.taskDetailStatus'].value_counts().reset_index()\n",
    "\n",
    "# Plot the reason failed using bar plot\n",
    "fig, ax1 = plt.subplots(figsize=(10, 5))\n",
    "\n",
    "# Create a gradient colormap\n",
    "cmap = plt.cm.get_cmap('summer')\n",
    "\n",
    "bars = ax1.bar(reason_count['index'], reason_count['UserVar.taskDetailStatus'])\n",
    "ax1.set_xlabel('Transaction Count')\n",
    "ax1.set_ylabel('Branch')\n",
    "ax1.set_title('Transaction Count by Branch')\n",
    "\n",
    "# Set the gradient color for the bars\n",
    "for i, bar in enumerate(bars):\n",
    "    bar.set_color(cmap(i / len(reason_count)))\n",
    "    \n",
    "# Annotate the value counts\n",
    "for i, count in enumerate(reason_count['UserVar.taskDetailStatus']):\n",
    "    ax1.annotate(f'{count}', (reason_count['index'][i], count), xytext=(-9, 5),\n",
    "                 textcoords='offset points', color='black')\n",
    "    \n",
    "plt.tight_layout()\n",
    "plt.show()"
   ]
  },
  {
   "cell_type": "markdown",
   "id": "6104073d",
   "metadata": {},
   "source": [
    "As we can see there are several reasons why the delivery failed. Most of it was because of U12 (Misroute), followed by U01 (Alamat tidak lengkap), and U05 (New Address)."
   ]
  },
  {
   "cell_type": "code",
   "execution_count": 17,
   "id": "7b30cc66",
   "metadata": {},
   "outputs": [
    {
     "data": {
      "text/plain": [
       "MISROUTE                                             763\n",
       "ALAMAT TIDAK LENGKAP service/ TIDAK DIKENAL          322\n",
       "RUMAH service/ KANTOR KOSONG (MASIH DIHUNI)          304\n",
       "NEW ADDRESS                                          247\n",
       "DIAMBIL SENDIRI                                      100\n",
       "TUTUP PADA AKHIR PEKAN service/ HARI LIBUR            70\n",
       "PENERIMA TIDAK DIKENAL                                64\n",
       "DITOLAK OLEH PENERIMA                                 52\n",
       "PENERIMA MENOLAK BAYAR (KIRIMAN COD)                  48\n",
       "PENERIMA PINDAH ALAMAT                                45\n",
       "FORCE MAJEURE                                         42\n",
       "MENUNGGU PEMBAYARAN COD                               27\n",
       "HOLD FOR FURTHER INSTRUCTI0N                          24\n",
       "PENERIMA MENOLAK MENERIMA KIRIMAN COD (TDK PESAN)     17\n",
       "TUTUP/LIBUR CUTI/DINAS LUAR KOTA (KIRIMAN COD)        13\n",
       "RUMAH service/ KANTOR TIDAK DIHUNI                     3\n",
       "MENUNGGU KONFIRMASI NILAI COD                          2\n",
       "CRISS-CROSS                                            1\n",
       "DAMAGE CASE                                            1\n",
       "Name: UserVar.taskDetailStatusLabel, dtype: int64"
      ]
     },
     "execution_count": 17,
     "metadata": {},
     "output_type": "execute_result"
    }
   ],
   "source": [
    "task_failed['UserVar.taskDetailStatusLabel'].value_counts()"
   ]
  },
  {
   "cell_type": "markdown",
   "id": "c1604908",
   "metadata": {},
   "source": [
    "## Cash on Delivery Analysis"
   ]
  },
  {
   "cell_type": "code",
   "execution_count": 18,
   "id": "1205e15c",
   "metadata": {},
   "outputs": [
    {
     "data": {
      "image/png": "[encoded data removed]",
      "text/plain": [
       "<Figure size 800x600 with 1 Axes>"
      ]
     },
     "metadata": {},
     "output_type": "display_data"
    },
    {
     "name": "stdout",
     "output_type": "stream",
     "text": [
      "Total COD Frequency: 2358\n",
      "COD Percentage: 28.29%\n",
      "Total COD Amount: 450710675.0\n",
      "Average COD Amount: 191141.08354537745\n"
     ]
    }
   ],
   "source": [
    "# Identify COD Transactions\n",
    "cod_transactions = df[(df['cod.received'] == True) | (df['cod.received'] == False)]\n",
    "\n",
    "# Calculate COD Frequency\n",
    "cod_frequency = cod_transactions.shape[0]\n",
    "total_transactions = df.shape[0]\n",
    "cod_percentage = (cod_frequency / total_transactions) * 100\n",
    "\n",
    "# Analyze COD Amounts\n",
    "cod_amounts = cod_transactions['cod.amount']\n",
    "total_cod_amount = cod_amounts.sum()\n",
    "average_cod_amount = cod_amounts.mean()\n",
    "\n",
    "# Visualize COD Analysis\n",
    "plt.figure(figsize=(8, 6))\n",
    "labels = ['COD', 'Other']\n",
    "sizes = [cod_frequency, total_transactions - cod_frequency]\n",
    "plt.pie(sizes, labels=labels, autopct='%1.1f%%')\n",
    "plt.title('COD Transactions Distribution')\n",
    "\n",
    "plt.show()\n",
    "\n",
    "print(f\"Total COD Frequency: {cod_frequency}\")\n",
    "print(f\"COD Percentage: {cod_percentage:.2f}%\")\n",
    "print(f\"Total COD Amount: {total_cod_amount}\")\n",
    "print(f\"Average COD Amount: {average_cod_amount}\")"
   ]
  },
  {
   "cell_type": "markdown",
   "id": "4c6133cb",
   "metadata": {},
   "source": [
    "We could see that the majority of customers prefer non-COD payment methods. This could indicate that alternative payment options, such as online payments or credit/debit card transactions, are more popular and convenient for customers. It suggests that customers may prefer the convenience and security provided by non-COD payment methods."
   ]
  },
  {
   "cell_type": "markdown",
   "id": "8f7b87d9",
   "metadata": {},
   "source": [
    "## Geolocation Analysis"
   ]
  },
  {
   "cell_type": "code",
   "execution_count": 19,
   "id": "43239d75",
   "metadata": {},
   "outputs": [
    {
     "data": {
      "text/html": [
       "<div>\n",
       "<style scoped>\n",
       "    .dataframe tbody tr th:only-of-type {\n",
       "        vertical-align: middle;\n",
       "    }\n",
       "\n",
       "    .dataframe tbody tr th {\n",
       "        vertical-align: top;\n",
       "    }\n",
       "\n",
       "    .dataframe thead th {\n",
       "        text-align: right;\n",
       "    }\n",
       "</style>\n",
       "<table border=\"1\" class=\"dataframe\">\n",
       "  <thead>\n",
       "    <tr style=\"text-align: right;\">\n",
       "      <th></th>\n",
       "      <th>index</th>\n",
       "      <th>UserVar.branch_dest</th>\n",
       "      <th>percentage</th>\n",
       "    </tr>\n",
       "  </thead>\n",
       "  <tbody>\n",
       "    <tr>\n",
       "      <th>0</th>\n",
       "      <td>PLM</td>\n",
       "      <td>562</td>\n",
       "      <td>0.067435</td>\n",
       "    </tr>\n",
       "    <tr>\n",
       "      <th>1</th>\n",
       "      <td>CGK</td>\n",
       "      <td>482</td>\n",
       "      <td>0.125270</td>\n",
       "    </tr>\n",
       "    <tr>\n",
       "      <th>2</th>\n",
       "      <td>SRG</td>\n",
       "      <td>480</td>\n",
       "      <td>0.182865</td>\n",
       "    </tr>\n",
       "    <tr>\n",
       "      <th>3</th>\n",
       "      <td>BDO</td>\n",
       "      <td>450</td>\n",
       "      <td>0.236861</td>\n",
       "    </tr>\n",
       "    <tr>\n",
       "      <th>4</th>\n",
       "      <td>KOE</td>\n",
       "      <td>432</td>\n",
       "      <td>0.288697</td>\n",
       "    </tr>\n",
       "    <tr>\n",
       "      <th>5</th>\n",
       "      <td>BOO</td>\n",
       "      <td>403</td>\n",
       "      <td>0.337053</td>\n",
       "    </tr>\n",
       "    <tr>\n",
       "      <th>6</th>\n",
       "      <td>PNK</td>\n",
       "      <td>309</td>\n",
       "      <td>0.374130</td>\n",
       "    </tr>\n",
       "    <tr>\n",
       "      <th>7</th>\n",
       "      <td>BPN</td>\n",
       "      <td>245</td>\n",
       "      <td>0.403528</td>\n",
       "    </tr>\n",
       "    <tr>\n",
       "      <th>8</th>\n",
       "      <td>DPS</td>\n",
       "      <td>244</td>\n",
       "      <td>0.432805</td>\n",
       "    </tr>\n",
       "    <tr>\n",
       "      <th>9</th>\n",
       "      <td>SUB</td>\n",
       "      <td>221</td>\n",
       "      <td>0.459323</td>\n",
       "    </tr>\n",
       "    <tr>\n",
       "      <th>10</th>\n",
       "      <td>TGR</td>\n",
       "      <td>212</td>\n",
       "      <td>0.484761</td>\n",
       "    </tr>\n",
       "    <tr>\n",
       "      <th>11</th>\n",
       "      <td>PGK</td>\n",
       "      <td>205</td>\n",
       "      <td>0.509359</td>\n",
       "    </tr>\n",
       "    <tr>\n",
       "      <th>12</th>\n",
       "      <td>CBN</td>\n",
       "      <td>201</td>\n",
       "      <td>0.533477</td>\n",
       "    </tr>\n",
       "    <tr>\n",
       "      <th>13</th>\n",
       "      <td>AMI</td>\n",
       "      <td>194</td>\n",
       "      <td>0.556755</td>\n",
       "    </tr>\n",
       "    <tr>\n",
       "      <th>14</th>\n",
       "      <td>KDI</td>\n",
       "      <td>191</td>\n",
       "      <td>0.579674</td>\n",
       "    </tr>\n",
       "    <tr>\n",
       "      <th>15</th>\n",
       "      <td>UPG</td>\n",
       "      <td>190</td>\n",
       "      <td>0.602472</td>\n",
       "    </tr>\n",
       "    <tr>\n",
       "      <th>16</th>\n",
       "      <td>SMD</td>\n",
       "      <td>187</td>\n",
       "      <td>0.624910</td>\n",
       "    </tr>\n",
       "    <tr>\n",
       "      <th>17</th>\n",
       "      <td>MGL</td>\n",
       "      <td>184</td>\n",
       "      <td>0.646988</td>\n",
       "    </tr>\n",
       "    <tr>\n",
       "      <th>18</th>\n",
       "      <td>MJK</td>\n",
       "      <td>178</td>\n",
       "      <td>0.668347</td>\n",
       "    </tr>\n",
       "    <tr>\n",
       "      <th>19</th>\n",
       "      <td>MXG</td>\n",
       "      <td>171</td>\n",
       "      <td>0.688865</td>\n",
       "    </tr>\n",
       "    <tr>\n",
       "      <th>20</th>\n",
       "      <td>BDJ</td>\n",
       "      <td>160</td>\n",
       "      <td>0.708063</td>\n",
       "    </tr>\n",
       "    <tr>\n",
       "      <th>21</th>\n",
       "      <td>CLG</td>\n",
       "      <td>152</td>\n",
       "      <td>0.726302</td>\n",
       "    </tr>\n",
       "    <tr>\n",
       "      <th>22</th>\n",
       "      <td>CKR</td>\n",
       "      <td>139</td>\n",
       "      <td>0.742981</td>\n",
       "    </tr>\n",
       "    <tr>\n",
       "      <th>23</th>\n",
       "      <td>PKU</td>\n",
       "      <td>132</td>\n",
       "      <td>0.758819</td>\n",
       "    </tr>\n",
       "    <tr>\n",
       "      <th>24</th>\n",
       "      <td>TKG</td>\n",
       "      <td>98</td>\n",
       "      <td>0.770578</td>\n",
       "    </tr>\n",
       "    <tr>\n",
       "      <th>25</th>\n",
       "      <td>DJJ</td>\n",
       "      <td>94</td>\n",
       "      <td>0.781857</td>\n",
       "    </tr>\n",
       "    <tr>\n",
       "      <th>26</th>\n",
       "      <td>BKI</td>\n",
       "      <td>89</td>\n",
       "      <td>0.792537</td>\n",
       "    </tr>\n",
       "    <tr>\n",
       "      <th>27</th>\n",
       "      <td>PLW</td>\n",
       "      <td>89</td>\n",
       "      <td>0.803216</td>\n",
       "    </tr>\n",
       "  </tbody>\n",
       "</table>\n",
       "</div>"
      ],
      "text/plain": [
       "   index  UserVar.branch_dest  percentage\n",
       "0    PLM                  562    0.067435\n",
       "1    CGK                  482    0.125270\n",
       "2    SRG                  480    0.182865\n",
       "3    BDO                  450    0.236861\n",
       "4    KOE                  432    0.288697\n",
       "5    BOO                  403    0.337053\n",
       "6    PNK                  309    0.374130\n",
       "7    BPN                  245    0.403528\n",
       "8    DPS                  244    0.432805\n",
       "9    SUB                  221    0.459323\n",
       "10   TGR                  212    0.484761\n",
       "11   PGK                  205    0.509359\n",
       "12   CBN                  201    0.533477\n",
       "13   AMI                  194    0.556755\n",
       "14   KDI                  191    0.579674\n",
       "15   UPG                  190    0.602472\n",
       "16   SMD                  187    0.624910\n",
       "17   MGL                  184    0.646988\n",
       "18   MJK                  178    0.668347\n",
       "19   MXG                  171    0.688865\n",
       "20   BDJ                  160    0.708063\n",
       "21   CLG                  152    0.726302\n",
       "22   CKR                  139    0.742981\n",
       "23   PKU                  132    0.758819\n",
       "24   TKG                   98    0.770578\n",
       "25   DJJ                   94    0.781857\n",
       "26   BKI                   89    0.792537\n",
       "27   PLW                   89    0.803216"
      ]
     },
     "execution_count": 19,
     "metadata": {},
     "output_type": "execute_result"
    }
   ],
   "source": [
    "df_test = df['UserVar.branch_dest'].value_counts().reset_index()\n",
    "df_test['percentage'] = df_test['UserVar.branch_dest'].cumsum() / df_test['UserVar.branch_dest'].sum()\n",
    "df_test[df_test['percentage'] < 0.81]"
   ]
  },
  {
   "cell_type": "code",
   "execution_count": 20,
   "id": "da062931",
   "metadata": {},
   "outputs": [],
   "source": [
    "# Group the data by branch and calculate the transaction count\n",
    "branch_transaction_count = df['UserVar.branch_dest'].value_counts()\n",
    "\n",
    "# Sort the branch-wise transaction count in descending order\n",
    "branch_transaction_count = branch_transaction_count.sort_values(ascending=False)\n",
    "\n",
    "# Calculate the cumulative percentage of transactions\n",
    "cumulative_percentage = branch_transaction_count.cumsum() / branch_transaction_count.sum()\n",
    "\n",
    "# Reverse the order of the branch-wise transaction count and cumulative percentage\n",
    "branch_transaction_count = branch_transaction_count[::-1]\n",
    "cumulative_percentage = cumulative_percentage[::-1]"
   ]
  },
  {
   "cell_type": "code",
   "execution_count": 59,
   "id": "759e28bb",
   "metadata": {},
   "outputs": [
    {
     "data": {
      "image/png": "[encoded data removed]",
      "text/plain": [
       "<Figure size 1000x1200 with 2 Axes>"
      ]
     },
     "metadata": {},
     "output_type": "display_data"
    }
   ],
   "source": [
    "# Plot the branch-wise transaction count and cumulative percentage using a horizontal bar plot\n",
    "fig, ax1 = plt.subplots(figsize=(10, 12))\n",
    "\n",
    "# Create a gradient colormap\n",
    "cmap = plt.cm.get_cmap('viridis')\n",
    "\n",
    "bars = ax1.barh(branch_transaction_count.index, branch_transaction_count)\n",
    "ax1.set_xlabel('Transaction Count')\n",
    "ax1.set_ylabel('Branch')\n",
    "ax1.set_title('Transaction Count by Branch')\n",
    "\n",
    "# Set the gradient color for the horizontal bars\n",
    "for i, bar in enumerate(bars):\n",
    "    bar.set_color(cmap(i / len(branch_transaction_count)))\n",
    "\n",
    "ax2 = ax1.twiny()\n",
    "ax2.plot(cumulative_percentage, branch_transaction_count.index, color='red', marker='o')\n",
    "ax2.set_xlabel('Cumulative Percentage')\n",
    "ax2.set_xlim([0, 1])\n",
    "\n",
    "# Annotate the cumulative percentage line with the percentage value\n",
    "for i, percentage in enumerate(cumulative_percentage):\n",
    "    ax2.annotate(f'{percentage:.1%}', (percentage, branch_transaction_count.index[i]), xytext=(5, 5),\n",
    "                 textcoords='offset points', color='black')\n",
    "\n",
    "plt.tight_layout()\n",
    "plt.show()"
   ]
  },
  {
   "cell_type": "markdown",
   "id": "12ceec97",
   "metadata": {},
   "source": [
    "The graph above shows the transaction count for each branches and the cumulative percentage of the transaction. According to The Pareto principle, also known as the 80/20 rule, suggests that roughly 80% of the effects come from 20% of the causes. So by focusing more on branches that account for 80% of the transactions, we can allocate our resources and efforts more efficiently. Instead of distributing our resources evenly across all branches, we can prioritize those key branches that generate the majority of the transactions. This approach allows you to maximize your impact and optimize your operations based on the Pareto principle."
   ]
  },
  {
   "cell_type": "markdown",
   "id": "bbbc2ac5",
   "metadata": {},
   "source": [
    "## Task Assignment Analysis"
   ]
  },
  {
   "cell_type": "markdown",
   "id": "ef718aaa",
   "metadata": {},
   "source": [
    "### Task Distribution Analysis"
   ]
  },
  {
   "cell_type": "code",
   "execution_count": 22,
   "id": "7710b803",
   "metadata": {},
   "outputs": [
    {
     "data": {
      "text/html": [
       "<div>\n",
       "<style scoped>\n",
       "    .dataframe tbody tr th:only-of-type {\n",
       "        vertical-align: middle;\n",
       "    }\n",
       "\n",
       "    .dataframe tbody tr th {\n",
       "        vertical-align: top;\n",
       "    }\n",
       "\n",
       "    .dataframe thead th {\n",
       "        text-align: right;\n",
       "    }\n",
       "</style>\n",
       "<table border=\"1\" class=\"dataframe\">\n",
       "  <thead>\n",
       "    <tr style=\"text-align: right;\">\n",
       "      <th></th>\n",
       "      <th>index</th>\n",
       "      <th>taskAssignedTo</th>\n",
       "    </tr>\n",
       "  </thead>\n",
       "  <tbody>\n",
       "    <tr>\n",
       "      <th>0</th>\n",
       "      <td>gutturalLion9</td>\n",
       "      <td>103</td>\n",
       "    </tr>\n",
       "    <tr>\n",
       "      <th>1</th>\n",
       "      <td>gloomyLlama0</td>\n",
       "      <td>83</td>\n",
       "    </tr>\n",
       "    <tr>\n",
       "      <th>2</th>\n",
       "      <td>zestyPear3</td>\n",
       "      <td>64</td>\n",
       "    </tr>\n",
       "    <tr>\n",
       "      <th>3</th>\n",
       "      <td>emptyIcecream6</td>\n",
       "      <td>57</td>\n",
       "    </tr>\n",
       "    <tr>\n",
       "      <th>4</th>\n",
       "      <td>artisticHyena7</td>\n",
       "      <td>56</td>\n",
       "    </tr>\n",
       "    <tr>\n",
       "      <th>...</th>\n",
       "      <td>...</td>\n",
       "      <td>...</td>\n",
       "    </tr>\n",
       "    <tr>\n",
       "      <th>2782</th>\n",
       "      <td>emptyAntelope3</td>\n",
       "      <td>1</td>\n",
       "    </tr>\n",
       "    <tr>\n",
       "      <th>2783</th>\n",
       "      <td>finickyCoati6</td>\n",
       "      <td>1</td>\n",
       "    </tr>\n",
       "    <tr>\n",
       "      <th>2784</th>\n",
       "      <td>thriftyLion5</td>\n",
       "      <td>1</td>\n",
       "    </tr>\n",
       "    <tr>\n",
       "      <th>2785</th>\n",
       "      <td>somberHeron8</td>\n",
       "      <td>1</td>\n",
       "    </tr>\n",
       "    <tr>\n",
       "      <th>2786</th>\n",
       "      <td>murkyThrushe3</td>\n",
       "      <td>1</td>\n",
       "    </tr>\n",
       "  </tbody>\n",
       "</table>\n",
       "<p>2787 rows × 2 columns</p>\n",
       "</div>"
      ],
      "text/plain": [
       "               index  taskAssignedTo\n",
       "0      gutturalLion9             103\n",
       "1       gloomyLlama0              83\n",
       "2         zestyPear3              64\n",
       "3     emptyIcecream6              57\n",
       "4     artisticHyena7              56\n",
       "...              ...             ...\n",
       "2782  emptyAntelope3               1\n",
       "2783   finickyCoati6               1\n",
       "2784    thriftyLion5               1\n",
       "2785    somberHeron8               1\n",
       "2786   murkyThrushe3               1\n",
       "\n",
       "[2787 rows x 2 columns]"
      ]
     },
     "execution_count": 22,
     "metadata": {},
     "output_type": "execute_result"
    }
   ],
   "source": [
    "# Calculate the number of tasks assigned to each person or entity\n",
    "task_assignments = df['taskAssignedTo'].value_counts().reset_index()\n",
    "# Assess the workload distribution\n",
    "task_assignments"
   ]
  },
  {
   "cell_type": "code",
   "execution_count": 23,
   "id": "7dd177cd",
   "metadata": {},
   "outputs": [
    {
     "data": {
      "text/html": [
       "<div>\n",
       "<style scoped>\n",
       "    .dataframe tbody tr th:only-of-type {\n",
       "        vertical-align: middle;\n",
       "    }\n",
       "\n",
       "    .dataframe tbody tr th {\n",
       "        vertical-align: top;\n",
       "    }\n",
       "\n",
       "    .dataframe thead th {\n",
       "        text-align: right;\n",
       "    }\n",
       "</style>\n",
       "<table border=\"1\" class=\"dataframe\">\n",
       "  <thead>\n",
       "    <tr style=\"text-align: right;\">\n",
       "      <th></th>\n",
       "      <th>index</th>\n",
       "      <th>taskAssignedTo</th>\n",
       "    </tr>\n",
       "  </thead>\n",
       "  <tbody>\n",
       "    <tr>\n",
       "      <th>0</th>\n",
       "      <td>gutturalLion9</td>\n",
       "      <td>103</td>\n",
       "    </tr>\n",
       "    <tr>\n",
       "      <th>1</th>\n",
       "      <td>gloomyLlama0</td>\n",
       "      <td>83</td>\n",
       "    </tr>\n",
       "    <tr>\n",
       "      <th>2</th>\n",
       "      <td>zestyPear3</td>\n",
       "      <td>64</td>\n",
       "    </tr>\n",
       "    <tr>\n",
       "      <th>3</th>\n",
       "      <td>emptyIcecream6</td>\n",
       "      <td>57</td>\n",
       "    </tr>\n",
       "    <tr>\n",
       "      <th>4</th>\n",
       "      <td>artisticHyena7</td>\n",
       "      <td>56</td>\n",
       "    </tr>\n",
       "  </tbody>\n",
       "</table>\n",
       "</div>"
      ],
      "text/plain": [
       "            index  taskAssignedTo\n",
       "0   gutturalLion9             103\n",
       "1    gloomyLlama0              83\n",
       "2      zestyPear3              64\n",
       "3  emptyIcecream6              57\n",
       "4  artisticHyena7              56"
      ]
     },
     "execution_count": 23,
     "metadata": {},
     "output_type": "execute_result"
    }
   ],
   "source": [
    "# Identify the top performers\n",
    "top_performers = task_assignments.head(5)  # Get the top 5 performers\n",
    "top_performers"
   ]
  },
  {
   "cell_type": "code",
   "execution_count": 24,
   "id": "062f7bc9",
   "metadata": {},
   "outputs": [
    {
     "name": "stdout",
     "output_type": "stream",
     "text": [
      "       taskAssignedTo\n",
      "count     2787.000000\n",
      "mean         2.989953\n",
      "std          5.246738\n",
      "min          1.000000\n",
      "25%          1.000000\n",
      "50%          1.000000\n",
      "75%          3.000000\n",
      "max        103.000000\n"
     ]
    }
   ],
   "source": [
    "# Assess the balance of task assignments\n",
    "balance = task_assignments.describe()\n",
    "print(balance)"
   ]
  },
  {
   "cell_type": "code",
   "execution_count": 61,
   "id": "d3802fd4",
   "metadata": {},
   "outputs": [
    {
     "data": {
      "text/plain": [
       "Text(0.5, 1.0, 'Distribution of Task Assignment')"
      ]
     },
     "execution_count": 61,
     "metadata": {},
     "output_type": "execute_result"
    },
    {
     "data": {
      "image/png": "[encoded data removed]",
      "text/plain": [
       "<Figure size 640x480 with 1 Axes>"
      ]
     },
     "metadata": {},
     "output_type": "display_data"
    }
   ],
   "source": [
    "# Histogram of task durations\n",
    "plt.subplot(1, 1, 1)\n",
    "plt.hist(task_assignments['taskAssignedTo'])\n",
    "plt.xlabel('Task Count')\n",
    "plt.ylabel('Count')\n",
    "plt.title('Distribution of Task Assignment')"
   ]
  },
  {
   "cell_type": "markdown",
   "id": "378d567b",
   "metadata": {},
   "source": [
    "As we can see there are several imbalance in term of workload. There are several workers who are assigned to a lot of task even more than hundred task while the other only has as little as 1 task. This means that there are so many underutilized workers. We could try to distribute the workload among the workers thus increasing the efficiency of their work."
   ]
  },
  {
   "cell_type": "markdown",
   "id": "ce6b0841",
   "metadata": {},
   "source": [
    "### Task Assignment Efficiency"
   ]
  },
  {
   "cell_type": "code",
   "execution_count": 26,
   "id": "962743a1",
   "metadata": {},
   "outputs": [
    {
     "data": {
      "text/html": [
       "<div>\n",
       "<style scoped>\n",
       "    .dataframe tbody tr th:only-of-type {\n",
       "        vertical-align: middle;\n",
       "    }\n",
       "\n",
       "    .dataframe tbody tr th {\n",
       "        vertical-align: top;\n",
       "    }\n",
       "\n",
       "    .dataframe thead th {\n",
       "        text-align: right;\n",
       "    }\n",
       "</style>\n",
       "<table border=\"1\" class=\"dataframe\">\n",
       "  <thead>\n",
       "    <tr style=\"text-align: right;\">\n",
       "      <th></th>\n",
       "      <th>taskAssignedTo</th>\n",
       "      <th>taskDuration</th>\n",
       "    </tr>\n",
       "  </thead>\n",
       "  <tbody>\n",
       "    <tr>\n",
       "      <th>0</th>\n",
       "      <td>aboardDunbird5</td>\n",
       "      <td>0.004722</td>\n",
       "    </tr>\n",
       "    <tr>\n",
       "      <th>1</th>\n",
       "      <td>unhappyCrackers3</td>\n",
       "      <td>0.005000</td>\n",
       "    </tr>\n",
       "    <tr>\n",
       "      <th>2</th>\n",
       "      <td>guiltySardines1</td>\n",
       "      <td>0.005000</td>\n",
       "    </tr>\n",
       "    <tr>\n",
       "      <th>3</th>\n",
       "      <td>brainyEagle1</td>\n",
       "      <td>0.005278</td>\n",
       "    </tr>\n",
       "    <tr>\n",
       "      <th>4</th>\n",
       "      <td>lovesickPiglet2</td>\n",
       "      <td>0.005278</td>\n",
       "    </tr>\n",
       "    <tr>\n",
       "      <th>...</th>\n",
       "      <td>...</td>\n",
       "      <td>...</td>\n",
       "    </tr>\n",
       "    <tr>\n",
       "      <th>2724</th>\n",
       "      <td>lyingSheep6</td>\n",
       "      <td>7.313611</td>\n",
       "    </tr>\n",
       "    <tr>\n",
       "      <th>2725</th>\n",
       "      <td>panickyMacaw8</td>\n",
       "      <td>9.417685</td>\n",
       "    </tr>\n",
       "    <tr>\n",
       "      <th>2726</th>\n",
       "      <td>madCheetah4</td>\n",
       "      <td>9.981528</td>\n",
       "    </tr>\n",
       "    <tr>\n",
       "      <th>2727</th>\n",
       "      <td>crummyCrane8</td>\n",
       "      <td>10.144802</td>\n",
       "    </tr>\n",
       "    <tr>\n",
       "      <th>2728</th>\n",
       "      <td>tautAntelope0</td>\n",
       "      <td>10.702315</td>\n",
       "    </tr>\n",
       "  </tbody>\n",
       "</table>\n",
       "<p>2729 rows × 2 columns</p>\n",
       "</div>"
      ],
      "text/plain": [
       "        taskAssignedTo  taskDuration\n",
       "0       aboardDunbird5      0.004722\n",
       "1     unhappyCrackers3      0.005000\n",
       "2      guiltySardines1      0.005000\n",
       "3         brainyEagle1      0.005278\n",
       "4      lovesickPiglet2      0.005278\n",
       "...                ...           ...\n",
       "2724       lyingSheep6      7.313611\n",
       "2725     panickyMacaw8      9.417685\n",
       "2726       madCheetah4      9.981528\n",
       "2727      crummyCrane8     10.144802\n",
       "2728     tautAntelope0     10.702315\n",
       "\n",
       "[2729 rows x 2 columns]"
      ]
     },
     "execution_count": 26,
     "metadata": {},
     "output_type": "execute_result"
    }
   ],
   "source": [
    "df_efficiency = df.groupby(['taskAssignedTo'])['taskDuration'].mean().reset_index().sort_values(by = ['taskDuration'],ascending=True)\n",
    "df_efficiency = df_efficiency.dropna()\n",
    "df_efficiency.reset_index(inplace=True,drop=True)\n",
    "df_efficiency"
   ]
  },
  {
   "cell_type": "code",
   "execution_count": 27,
   "id": "0912794a",
   "metadata": {},
   "outputs": [
    {
     "data": {
      "text/html": [
       "<div>\n",
       "<style scoped>\n",
       "    .dataframe tbody tr th:only-of-type {\n",
       "        vertical-align: middle;\n",
       "    }\n",
       "\n",
       "    .dataframe tbody tr th {\n",
       "        vertical-align: top;\n",
       "    }\n",
       "\n",
       "    .dataframe thead th {\n",
       "        text-align: right;\n",
       "    }\n",
       "</style>\n",
       "<table border=\"1\" class=\"dataframe\">\n",
       "  <thead>\n",
       "    <tr style=\"text-align: right;\">\n",
       "      <th></th>\n",
       "      <th>taskAssignedTo</th>\n",
       "      <th>taskDuration</th>\n",
       "    </tr>\n",
       "  </thead>\n",
       "  <tbody>\n",
       "    <tr>\n",
       "      <th>191</th>\n",
       "      <td>gloomyLlama0</td>\n",
       "      <td>0.030981</td>\n",
       "    </tr>\n",
       "    <tr>\n",
       "      <th>236</th>\n",
       "      <td>gutturalLion9</td>\n",
       "      <td>0.048366</td>\n",
       "    </tr>\n",
       "    <tr>\n",
       "      <th>307</th>\n",
       "      <td>artisticHyena7</td>\n",
       "      <td>0.088517</td>\n",
       "    </tr>\n",
       "    <tr>\n",
       "      <th>1233</th>\n",
       "      <td>zestyPear3</td>\n",
       "      <td>0.730278</td>\n",
       "    </tr>\n",
       "    <tr>\n",
       "      <th>2302</th>\n",
       "      <td>emptyIcecream6</td>\n",
       "      <td>3.005210</td>\n",
       "    </tr>\n",
       "  </tbody>\n",
       "</table>\n",
       "</div>"
      ],
      "text/plain": [
       "      taskAssignedTo  taskDuration\n",
       "191     gloomyLlama0      0.030981\n",
       "236    gutturalLion9      0.048366\n",
       "307   artisticHyena7      0.088517\n",
       "1233      zestyPear3      0.730278\n",
       "2302  emptyIcecream6      3.005210"
      ]
     },
     "execution_count": 27,
     "metadata": {},
     "output_type": "execute_result"
    }
   ],
   "source": [
    "### Checking the task duration of each top 5 workers with the most assigned task\n",
    "df_efficiency[df_efficiency['taskAssignedTo'].isin(['gutturalLion9','gloomyLlama0','zestyPear3','emptyIcecream6','artisticHyena7'])]"
   ]
  },
  {
   "cell_type": "markdown",
   "id": "9d8eaa83",
   "metadata": {},
   "source": [
    "As we can see 5 top performers with the most assigned task isn't the top performers in term of Task Duration. It could means that they are overloaded with their task thus make them perform poorly. That's why we need to distribute the workload more balance so each workers can perform more efficient."
   ]
  },
  {
   "cell_type": "markdown",
   "id": "76c855eb",
   "metadata": {},
   "source": [
    "## Product Analysis"
   ]
  },
  {
   "cell_type": "code",
   "execution_count": 28,
   "id": "a196d7a4",
   "metadata": {},
   "outputs": [
    {
     "data": {
      "text/html": [
       "<div>\n",
       "<style scoped>\n",
       "    .dataframe tbody tr th:only-of-type {\n",
       "        vertical-align: middle;\n",
       "    }\n",
       "\n",
       "    .dataframe tbody tr th {\n",
       "        vertical-align: top;\n",
       "    }\n",
       "\n",
       "    .dataframe thead th {\n",
       "        text-align: right;\n",
       "    }\n",
       "</style>\n",
       "<table border=\"1\" class=\"dataframe\">\n",
       "  <thead>\n",
       "    <tr style=\"text-align: right;\">\n",
       "      <th></th>\n",
       "      <th>taskLocationDone.lon</th>\n",
       "      <th>taskLocationDone.lat</th>\n",
       "      <th>cod.amount</th>\n",
       "      <th>UserVar.weight</th>\n",
       "      <th>taskDuration</th>\n",
       "    </tr>\n",
       "  </thead>\n",
       "  <tbody>\n",
       "    <tr>\n",
       "      <th>count</th>\n",
       "      <td>7566.000000</td>\n",
       "      <td>7566.000000</td>\n",
       "      <td>2.358000e+03</td>\n",
       "      <td>8334.000000</td>\n",
       "      <td>7566.000000</td>\n",
       "    </tr>\n",
       "    <tr>\n",
       "      <th>mean</th>\n",
       "      <td>75.355852</td>\n",
       "      <td>-3.610514</td>\n",
       "      <td>1.911411e+05</td>\n",
       "      <td>2.448298</td>\n",
       "      <td>1.213988</td>\n",
       "    </tr>\n",
       "    <tr>\n",
       "      <th>std</th>\n",
       "      <td>52.492016</td>\n",
       "      <td>3.647171</td>\n",
       "      <td>2.723770e+05</td>\n",
       "      <td>6.188171</td>\n",
       "      <td>1.681328</td>\n",
       "    </tr>\n",
       "    <tr>\n",
       "      <th>min</th>\n",
       "      <td>0.000000</td>\n",
       "      <td>-10.493658</td>\n",
       "      <td>8.370000e+02</td>\n",
       "      <td>0.000000</td>\n",
       "      <td>0.004167</td>\n",
       "    </tr>\n",
       "    <tr>\n",
       "      <th>25%</th>\n",
       "      <td>0.000000</td>\n",
       "      <td>-7.061575</td>\n",
       "      <td>6.100000e+04</td>\n",
       "      <td>1.000000</td>\n",
       "      <td>0.166597</td>\n",
       "    </tr>\n",
       "    <tr>\n",
       "      <th>50%</th>\n",
       "      <td>106.843097</td>\n",
       "      <td>-3.329263</td>\n",
       "      <td>1.533750e+05</td>\n",
       "      <td>1.000000</td>\n",
       "      <td>0.620972</td>\n",
       "    </tr>\n",
       "    <tr>\n",
       "      <th>75%</th>\n",
       "      <td>112.182877</td>\n",
       "      <td>0.000000</td>\n",
       "      <td>2.350000e+05</td>\n",
       "      <td>1.600000</td>\n",
       "      <td>1.368681</td>\n",
       "    </tr>\n",
       "    <tr>\n",
       "      <th>max</th>\n",
       "      <td>140.806424</td>\n",
       "      <td>5.564040</td>\n",
       "      <td>4.730000e+06</td>\n",
       "      <td>202.500000</td>\n",
       "      <td>13.266667</td>\n",
       "    </tr>\n",
       "  </tbody>\n",
       "</table>\n",
       "</div>"
      ],
      "text/plain": [
       "       taskLocationDone.lon  taskLocationDone.lat    cod.amount  \\\n",
       "count           7566.000000           7566.000000  2.358000e+03   \n",
       "mean              75.355852             -3.610514  1.911411e+05   \n",
       "std               52.492016              3.647171  2.723770e+05   \n",
       "min                0.000000            -10.493658  8.370000e+02   \n",
       "25%                0.000000             -7.061575  6.100000e+04   \n",
       "50%              106.843097             -3.329263  1.533750e+05   \n",
       "75%              112.182877              0.000000  2.350000e+05   \n",
       "max              140.806424              5.564040  4.730000e+06   \n",
       "\n",
       "       UserVar.weight  taskDuration  \n",
       "count     8334.000000   7566.000000  \n",
       "mean         2.448298      1.213988  \n",
       "std          6.188171      1.681328  \n",
       "min          0.000000      0.004167  \n",
       "25%          1.000000      0.166597  \n",
       "50%          1.000000      0.620972  \n",
       "75%          1.600000      1.368681  \n",
       "max        202.500000     13.266667  "
      ]
     },
     "execution_count": 28,
     "metadata": {},
     "output_type": "execute_result"
    }
   ],
   "source": [
    "df.describe()"
   ]
  },
  {
   "cell_type": "code",
   "execution_count": 29,
   "id": "7cf0c822",
   "metadata": {},
   "outputs": [
    {
     "data": {
      "image/png": "[encoded data removed]",
      "text/plain": [
       "<Figure size 640x480 with 1 Axes>"
      ]
     },
     "metadata": {},
     "output_type": "display_data"
    }
   ],
   "source": [
    "# Analyze the weight variable\n",
    "# Convert the weight variable to float\n",
    "df['UserVar.weight'] = df['UserVar.weight'].astype(float)\n",
    "weight_counts = df['UserVar.weight'].value_counts().sort_index()\n",
    "\n",
    "plt.hist(df['UserVar.weight'], bins=10)\n",
    "plt.xlabel('Parcel Weight')\n",
    "plt.ylabel('Count')\n",
    "plt.title('Distribution of Parcel Weights')\n",
    "\n",
    "plt.show()"
   ]
  },
  {
   "cell_type": "markdown",
   "id": "f368bb7d",
   "metadata": {},
   "source": [
    "From the graph above we could say that almost all of the product ordered are around 0-20 kg or lb while the biggest product ordered is weighing around 200 kg or lb."
   ]
  },
  {
   "cell_type": "markdown",
   "id": "04926ffb",
   "metadata": {},
   "source": [
    "## Machine Learning Model"
   ]
  },
  {
   "cell_type": "markdown",
   "id": "b8f4c4ae",
   "metadata": {},
   "source": [
    "Here we will try to create a machine learning model to predict how long the task duration will be."
   ]
  },
  {
   "cell_type": "markdown",
   "id": "dd3d3842",
   "metadata": {},
   "source": [
    "### Feature Selection"
   ]
  },
  {
   "cell_type": "markdown",
   "id": "1ec5b8ec",
   "metadata": {},
   "source": [
    "From my knowledges, There are several factors that can affect how long the task duration will be. Based on this dataset, several columns that I will use as the features are \"taskAssignedTo\", \"taskLocationDone.lon\", \"taskLocationDone.lat\", \"UserVar.weight\", and \"UserVar.branch_origin\"."
   ]
  },
  {
   "cell_type": "code",
   "execution_count": 30,
   "id": "92bed949",
   "metadata": {},
   "outputs": [
    {
     "data": {
      "text/html": [
       "<div>\n",
       "<style scoped>\n",
       "    .dataframe tbody tr th:only-of-type {\n",
       "        vertical-align: middle;\n",
       "    }\n",
       "\n",
       "    .dataframe tbody tr th {\n",
       "        vertical-align: top;\n",
       "    }\n",
       "\n",
       "    .dataframe thead th {\n",
       "        text-align: right;\n",
       "    }\n",
       "</style>\n",
       "<table border=\"1\" class=\"dataframe\">\n",
       "  <thead>\n",
       "    <tr style=\"text-align: right;\">\n",
       "      <th></th>\n",
       "      <th>taskAssignedTo</th>\n",
       "      <th>taskLocationDone.lon</th>\n",
       "      <th>taskLocationDone.lat</th>\n",
       "      <th>UserVar.weight</th>\n",
       "      <th>UserVar.branch_origin</th>\n",
       "      <th>taskDuration</th>\n",
       "    </tr>\n",
       "  </thead>\n",
       "  <tbody>\n",
       "    <tr>\n",
       "      <th>0</th>\n",
       "      <td>pacifiedLion0</td>\n",
       "      <td>109.762910</td>\n",
       "      <td>-6.926608</td>\n",
       "      <td>13.000</td>\n",
       "      <td>CGK</td>\n",
       "      <td>0.484444</td>\n",
       "    </tr>\n",
       "    <tr>\n",
       "      <th>1</th>\n",
       "      <td>peacefulTacos6</td>\n",
       "      <td>110.033986</td>\n",
       "      <td>-7.876154</td>\n",
       "      <td>1.300</td>\n",
       "      <td>CGK</td>\n",
       "      <td>3.878056</td>\n",
       "    </tr>\n",
       "    <tr>\n",
       "      <th>2</th>\n",
       "      <td>peacefulTacos6</td>\n",
       "      <td>109.999733</td>\n",
       "      <td>-7.849777</td>\n",
       "      <td>3.000</td>\n",
       "      <td>CGK</td>\n",
       "      <td>5.013889</td>\n",
       "    </tr>\n",
       "    <tr>\n",
       "      <th>3</th>\n",
       "      <td>peacefulTacos6</td>\n",
       "      <td>110.003708</td>\n",
       "      <td>-7.710998</td>\n",
       "      <td>0.625</td>\n",
       "      <td>CGK</td>\n",
       "      <td>9.620000</td>\n",
       "    </tr>\n",
       "    <tr>\n",
       "      <th>4</th>\n",
       "      <td>peacefulTacos6</td>\n",
       "      <td>110.013887</td>\n",
       "      <td>-7.829742</td>\n",
       "      <td>3.000</td>\n",
       "      <td>CGK</td>\n",
       "      <td>2.178333</td>\n",
       "    </tr>\n",
       "    <tr>\n",
       "      <th>...</th>\n",
       "      <td>...</td>\n",
       "      <td>...</td>\n",
       "      <td>...</td>\n",
       "      <td>...</td>\n",
       "      <td>...</td>\n",
       "      <td>...</td>\n",
       "    </tr>\n",
       "    <tr>\n",
       "      <th>8329</th>\n",
       "      <td>debonairPonie1</td>\n",
       "      <td>0.000000</td>\n",
       "      <td>0.000000</td>\n",
       "      <td>1.000</td>\n",
       "      <td>CGK</td>\n",
       "      <td>0.514444</td>\n",
       "    </tr>\n",
       "    <tr>\n",
       "      <th>8330</th>\n",
       "      <td>murkyThrushe3</td>\n",
       "      <td>110.352054</td>\n",
       "      <td>-7.892571</td>\n",
       "      <td>1.000</td>\n",
       "      <td>TGR</td>\n",
       "      <td>0.269444</td>\n",
       "    </tr>\n",
       "    <tr>\n",
       "      <th>8331</th>\n",
       "      <td>enragedCake7</td>\n",
       "      <td>105.664897</td>\n",
       "      <td>-5.359063</td>\n",
       "      <td>1.440</td>\n",
       "      <td>CGK</td>\n",
       "      <td>0.019722</td>\n",
       "    </tr>\n",
       "    <tr>\n",
       "      <th>8332</th>\n",
       "      <td>lyingPaella2</td>\n",
       "      <td>119.877173</td>\n",
       "      <td>-8.513305</td>\n",
       "      <td>0.600</td>\n",
       "      <td>CGK</td>\n",
       "      <td>2.203611</td>\n",
       "    </tr>\n",
       "    <tr>\n",
       "      <th>8333</th>\n",
       "      <td>emptyPretzels3</td>\n",
       "      <td>0.000000</td>\n",
       "      <td>0.000000</td>\n",
       "      <td>1.000</td>\n",
       "      <td>BPN</td>\n",
       "      <td>1.860278</td>\n",
       "    </tr>\n",
       "  </tbody>\n",
       "</table>\n",
       "<p>8334 rows × 6 columns</p>\n",
       "</div>"
      ],
      "text/plain": [
       "      taskAssignedTo  taskLocationDone.lon  taskLocationDone.lat  \\\n",
       "0      pacifiedLion0            109.762910             -6.926608   \n",
       "1     peacefulTacos6            110.033986             -7.876154   \n",
       "2     peacefulTacos6            109.999733             -7.849777   \n",
       "3     peacefulTacos6            110.003708             -7.710998   \n",
       "4     peacefulTacos6            110.013887             -7.829742   \n",
       "...              ...                   ...                   ...   \n",
       "8329  debonairPonie1              0.000000              0.000000   \n",
       "8330   murkyThrushe3            110.352054             -7.892571   \n",
       "8331    enragedCake7            105.664897             -5.359063   \n",
       "8332    lyingPaella2            119.877173             -8.513305   \n",
       "8333  emptyPretzels3              0.000000              0.000000   \n",
       "\n",
       "      UserVar.weight UserVar.branch_origin  taskDuration  \n",
       "0             13.000                   CGK      0.484444  \n",
       "1              1.300                   CGK      3.878056  \n",
       "2              3.000                   CGK      5.013889  \n",
       "3              0.625                   CGK      9.620000  \n",
       "4              3.000                   CGK      2.178333  \n",
       "...              ...                   ...           ...  \n",
       "8329           1.000                   CGK      0.514444  \n",
       "8330           1.000                   TGR      0.269444  \n",
       "8331           1.440                   CGK      0.019722  \n",
       "8332           0.600                   CGK      2.203611  \n",
       "8333           1.000                   BPN      1.860278  \n",
       "\n",
       "[8334 rows x 6 columns]"
      ]
     },
     "execution_count": 30,
     "metadata": {},
     "output_type": "execute_result"
    }
   ],
   "source": [
    "df_ml = df[[\"taskAssignedTo\", \"taskLocationDone.lon\", \"taskLocationDone.lat\", \"UserVar.weight\", \"UserVar.branch_origin\", \"taskDuration\"]]\n",
    "df_ml"
   ]
  },
  {
   "cell_type": "code",
   "execution_count": 31,
   "id": "86f5dd8c",
   "metadata": {},
   "outputs": [
    {
     "name": "stderr",
     "output_type": "stream",
     "text": [
      "C:\\Users\\User\\AppData\\Local\\Temp\\ipykernel_15492\\2934051502.py:2: SettingWithCopyWarning: \n",
      "A value is trying to be set on a copy of a slice from a DataFrame.\n",
      "Try using .loc[row_indexer,col_indexer] = value instead\n",
      "\n",
      "See the caveats in the documentation: https://pandas.pydata.org/pandas-docs/stable/user_guide/indexing.html#returning-a-view-versus-a-copy\n",
      "  df_ml['UserVar.weight'] = df_ml['UserVar.weight'].astype(float)\n"
     ]
    }
   ],
   "source": [
    "# Convert weight feature to float\n",
    "df_ml['UserVar.weight'] = df_ml['UserVar.weight'].astype(float)"
   ]
  },
  {
   "cell_type": "markdown",
   "id": "be938508",
   "metadata": {},
   "source": [
    "### Check Missing Value"
   ]
  },
  {
   "cell_type": "code",
   "execution_count": 32,
   "id": "4d3c33d1",
   "metadata": {},
   "outputs": [],
   "source": [
    "# Check if there are any missing values\n",
    "def missing_values_table(df):\n",
    "        mis_val = df.isnull().sum()\n",
    "        mis_val_percent = 100 * df.isnull().sum() / len(df)\n",
    "        mis_val_table = pd.concat([mis_val, mis_val_percent], axis=1)\n",
    "        mis_val_table_ren_columns = mis_val_table.rename(\n",
    "        columns = {0 : 'Missing Values', 1 : '% of Total Values'})\n",
    "        mis_val_table_ren_columns = mis_val_table_ren_columns[\n",
    "            mis_val_table_ren_columns.iloc[:,1] != 0].sort_values(\n",
    "        '% of Total Values', ascending=False).round(1)\n",
    "        print (\"Dataframe has \" + str(df.shape[1]) + \" columns.\\n\"      \n",
    "            \"There are \" + str(mis_val_table_ren_columns.shape[0]) +\n",
    "              \" columns that have missing values.\")\n",
    "        return mis_val_table_ren_columns"
   ]
  },
  {
   "cell_type": "code",
   "execution_count": 33,
   "id": "fa595763",
   "metadata": {},
   "outputs": [
    {
     "name": "stdout",
     "output_type": "stream",
     "text": [
      "Dataframe has 6 columns.\n",
      "There are 5 columns that have missing values.\n"
     ]
    },
    {
     "data": {
      "text/html": [
       "<div>\n",
       "<style scoped>\n",
       "    .dataframe tbody tr th:only-of-type {\n",
       "        vertical-align: middle;\n",
       "    }\n",
       "\n",
       "    .dataframe tbody tr th {\n",
       "        vertical-align: top;\n",
       "    }\n",
       "\n",
       "    .dataframe thead th {\n",
       "        text-align: right;\n",
       "    }\n",
       "</style>\n",
       "<table border=\"1\" class=\"dataframe\">\n",
       "  <thead>\n",
       "    <tr style=\"text-align: right;\">\n",
       "      <th></th>\n",
       "      <th>Missing Values</th>\n",
       "      <th>% of Total Values</th>\n",
       "    </tr>\n",
       "  </thead>\n",
       "  <tbody>\n",
       "    <tr>\n",
       "      <th>taskLocationDone.lon</th>\n",
       "      <td>768</td>\n",
       "      <td>9.2</td>\n",
       "    </tr>\n",
       "    <tr>\n",
       "      <th>taskLocationDone.lat</th>\n",
       "      <td>768</td>\n",
       "      <td>9.2</td>\n",
       "    </tr>\n",
       "    <tr>\n",
       "      <th>taskDuration</th>\n",
       "      <td>768</td>\n",
       "      <td>9.2</td>\n",
       "    </tr>\n",
       "    <tr>\n",
       "      <th>UserVar.branch_origin</th>\n",
       "      <td>293</td>\n",
       "      <td>3.5</td>\n",
       "    </tr>\n",
       "    <tr>\n",
       "      <th>taskAssignedTo</th>\n",
       "      <td>1</td>\n",
       "      <td>0.0</td>\n",
       "    </tr>\n",
       "  </tbody>\n",
       "</table>\n",
       "</div>"
      ],
      "text/plain": [
       "                       Missing Values  % of Total Values\n",
       "taskLocationDone.lon              768                9.2\n",
       "taskLocationDone.lat              768                9.2\n",
       "taskDuration                      768                9.2\n",
       "UserVar.branch_origin             293                3.5\n",
       "taskAssignedTo                      1                0.0"
      ]
     },
     "execution_count": 33,
     "metadata": {},
     "output_type": "execute_result"
    }
   ],
   "source": [
    "missing_values_table(df_ml)"
   ]
  },
  {
   "cell_type": "markdown",
   "id": "0d494913",
   "metadata": {},
   "source": [
    "Most of the missing values are caused by the task still being ongoing. Because we only need the task that had been done so we will drop data with missing value."
   ]
  },
  {
   "cell_type": "code",
   "execution_count": 34,
   "id": "b534f42c",
   "metadata": {},
   "outputs": [
    {
     "name": "stderr",
     "output_type": "stream",
     "text": [
      "C:\\Users\\User\\AppData\\Local\\Temp\\ipykernel_15492\\772228459.py:1: SettingWithCopyWarning: \n",
      "A value is trying to be set on a copy of a slice from a DataFrame\n",
      "\n",
      "See the caveats in the documentation: https://pandas.pydata.org/pandas-docs/stable/user_guide/indexing.html#returning-a-view-versus-a-copy\n",
      "  df_ml.dropna(inplace=True)\n"
     ]
    }
   ],
   "source": [
    "df_ml.dropna(inplace=True)"
   ]
  },
  {
   "cell_type": "markdown",
   "id": "e47bac98",
   "metadata": {},
   "source": [
    "### Preprocessing Categorical Variable"
   ]
  },
  {
   "cell_type": "markdown",
   "id": "1b625c6d",
   "metadata": {},
   "source": [
    "The dataset we use has two categorical features which are \"taskAssignedTo\" and \"UserVar.branch_origin\". Because both of the features have too many values, using one hot encoder isn't visible. Instead we will use target encoder."
   ]
  },
  {
   "cell_type": "code",
   "execution_count": 35,
   "id": "8b77df16",
   "metadata": {},
   "outputs": [],
   "source": [
    "X = df_ml.drop(['taskDuration'], axis = 1)\n",
    "y = df_ml['taskDuration']\n",
    "# Create and fit the target encoder\n",
    "encoder = TargetEncoder(cols=['taskAssignedTo','UserVar.branch_origin'])  # Specify the column(s) to encode\n",
    "encoder.fit(X, y)\n",
    "\n",
    "# Transform the categorical feature with target encoding\n",
    "X = encoder.transform(X)"
   ]
  },
  {
   "cell_type": "markdown",
   "id": "80361147",
   "metadata": {},
   "source": [
    "### Scaling the Data"
   ]
  },
  {
   "cell_type": "code",
   "execution_count": 36,
   "id": "e6c0c18c",
   "metadata": {},
   "outputs": [],
   "source": [
    "# data standarization \n",
    "sc=StandardScaler()\n",
    "X_scaled = sc.fit_transform(X)"
   ]
  },
  {
   "cell_type": "markdown",
   "id": "74791902",
   "metadata": {},
   "source": [
    "### Modeling"
   ]
  },
  {
   "cell_type": "markdown",
   "id": "aa404e82",
   "metadata": {},
   "source": [
    "As the baseline we will first try to model using linear regression."
   ]
  },
  {
   "cell_type": "markdown",
   "id": "e858135c",
   "metadata": {},
   "source": [
    "#### Linear Regression"
   ]
  },
  {
   "cell_type": "code",
   "execution_count": 37,
   "id": "63637121",
   "metadata": {},
   "outputs": [],
   "source": [
    "X_train_lr ,X_test_lr ,y_train_lr,y_test_lr = train_test_split(X_scaled,y,test_size=.2,random_state=42,shuffle=True)"
   ]
  },
  {
   "cell_type": "code",
   "execution_count": 38,
   "id": "d011a1d2",
   "metadata": {},
   "outputs": [
    {
     "name": "stdout",
     "output_type": "stream",
     "text": [
      "Mean Squared Error: 1.4482018333040882\n",
      "R-squared Score: 0.5117003641703709\n"
     ]
    }
   ],
   "source": [
    "# Create and train the linear regression model\n",
    "model = LinearRegression()\n",
    "model.fit(X_train_lr, y_train_lr)\n",
    "\n",
    "# Make predictions on the testing set\n",
    "y_pred = model.predict(X_test_lr)\n",
    "\n",
    "# Evaluate the model\n",
    "mse_lr = mean_squared_error(y_test_lr, y_pred)\n",
    "r2_lr = r2_score(y_test_lr, y_pred)\n",
    "\n",
    "print(\"Mean Squared Error:\", mse_lr)\n",
    "print(\"R-squared Score:\", r2_lr)"
   ]
  },
  {
   "cell_type": "markdown",
   "id": "15a1a247",
   "metadata": {},
   "source": [
    "As we can see the result is quite good but can be improved more. We will try using another algorithm."
   ]
  },
  {
   "cell_type": "markdown",
   "id": "bc6166ca",
   "metadata": {},
   "source": [
    "#### Decision Tree"
   ]
  },
  {
   "cell_type": "code",
   "execution_count": 39,
   "id": "b2eead09",
   "metadata": {},
   "outputs": [],
   "source": [
    "X_train_dt, X_test_dt, y_train_dt, y_test_dt = train_test_split(X_scaled,y,test_size=.2,random_state=42,shuffle=True)"
   ]
  },
  {
   "cell_type": "code",
   "execution_count": 40,
   "id": "a26a7aab",
   "metadata": {},
   "outputs": [],
   "source": [
    "dt = DecisionTreeRegressor(random_state=42)"
   ]
  },
  {
   "cell_type": "markdown",
   "id": "4066cc82",
   "metadata": {},
   "source": [
    "##### Hyperparameter Tuning"
   ]
  },
  {
   "cell_type": "code",
   "execution_count": 41,
   "id": "b580afbf",
   "metadata": {},
   "outputs": [
    {
     "data": {
      "text/html": [
       "<style>#sk-container-id-1 {color: black;background-color: white;}#sk-container-id-1 pre{padding: 0;}#sk-container-id-1 div.sk-toggleable {background-color: white;}#sk-container-id-1 label.sk-toggleable__label {cursor: pointer;display: block;width: 100%;margin-bottom: 0;padding: 0.3em;box-sizing: border-box;text-align: center;}#sk-container-id-1 label.sk-toggleable__label-arrow:before {content: \"▸\";float: left;margin-right: 0.25em;color: #696969;}#sk-container-id-1 label.sk-toggleable__label-arrow:hover:before {color: black;}#sk-container-id-1 div.sk-estimator:hover label.sk-toggleable__label-arrow:before {color: black;}#sk-container-id-1 div.sk-toggleable__content {max-height: 0;max-width: 0;overflow: hidden;text-align: left;background-color: #f0f8ff;}#sk-container-id-1 div.sk-toggleable__content pre {margin: 0.2em;color: black;border-radius: 0.25em;background-color: #f0f8ff;}#sk-container-id-1 input.sk-toggleable__control:checked~div.sk-toggleable__content {max-height: 200px;max-width: 100%;overflow: auto;}#sk-container-id-1 input.sk-toggleable__control:checked~label.sk-toggleable__label-arrow:before {content: \"▾\";}#sk-container-id-1 div.sk-estimator input.sk-toggleable__control:checked~label.sk-toggleable__label {background-color: #d4ebff;}#sk-container-id-1 div.sk-label input.sk-toggleable__control:checked~label.sk-toggleable__label {background-color: #d4ebff;}#sk-container-id-1 input.sk-hidden--visually {border: 0;clip: rect(1px 1px 1px 1px);clip: rect(1px, 1px, 1px, 1px);height: 1px;margin: -1px;overflow: hidden;padding: 0;position: absolute;width: 1px;}#sk-container-id-1 div.sk-estimator {font-family: monospace;background-color: #f0f8ff;border: 1px dotted black;border-radius: 0.25em;box-sizing: border-box;margin-bottom: 0.5em;}#sk-container-id-1 div.sk-estimator:hover {background-color: #d4ebff;}#sk-container-id-1 div.sk-parallel-item::after {content: \"\";width: 100%;border-bottom: 1px solid gray;flex-grow: 1;}#sk-container-id-1 div.sk-label:hover label.sk-toggleable__label {background-color: #d4ebff;}#sk-container-id-1 div.sk-serial::before {content: \"\";position: absolute;border-left: 1px solid gray;box-sizing: border-box;top: 0;bottom: 0;left: 50%;z-index: 0;}#sk-container-id-1 div.sk-serial {display: flex;flex-direction: column;align-items: center;background-color: white;padding-right: 0.2em;padding-left: 0.2em;position: relative;}#sk-container-id-1 div.sk-item {position: relative;z-index: 1;}#sk-container-id-1 div.sk-parallel {display: flex;align-items: stretch;justify-content: center;background-color: white;position: relative;}#sk-container-id-1 div.sk-item::before, #sk-container-id-1 div.sk-parallel-item::before {content: \"\";position: absolute;border-left: 1px solid gray;box-sizing: border-box;top: 0;bottom: 0;left: 50%;z-index: -1;}#sk-container-id-1 div.sk-parallel-item {display: flex;flex-direction: column;z-index: 1;position: relative;background-color: white;}#sk-container-id-1 div.sk-parallel-item:first-child::after {align-self: flex-end;width: 50%;}#sk-container-id-1 div.sk-parallel-item:last-child::after {align-self: flex-start;width: 50%;}#sk-container-id-1 div.sk-parallel-item:only-child::after {width: 0;}#sk-container-id-1 div.sk-dashed-wrapped {border: 1px dashed gray;margin: 0 0.4em 0.5em 0.4em;box-sizing: border-box;padding-bottom: 0.4em;background-color: white;}#sk-container-id-1 div.sk-label label {font-family: monospace;font-weight: bold;display: inline-block;line-height: 1.2em;}#sk-container-id-1 div.sk-label-container {text-align: center;}#sk-container-id-1 div.sk-container {/* jupyter's `normalize.less` sets `[hidden] { display: none; }` but bootstrap.min.css set `[hidden] { display: none !important; }` so we also need the `!important` here to be able to override the default hidden behavior on the sphinx rendered scikit-learn.org. See: https://github.com/scikit-learn/scikit-learn/issues/21755 */display: inline-block !important;position: relative;}#sk-container-id-1 div.sk-text-repr-fallback {display: none;}</style><div id=\"sk-container-id-1\" class=\"sk-top-container\"><div class=\"sk-text-repr-fallback\"><pre>RandomizedSearchCV(cv=5, estimator=DecisionTreeRegressor(random_state=42),\n",
       "                   param_distributions={&#x27;max_depth&#x27;: (1, 2, 3, 4, 5, 6, 7, 8, 9,\n",
       "                                                      10),\n",
       "                                        &#x27;max_leaf_nodes&#x27;: (5, 10, 20, 50, 100)})</pre><b>In a Jupyter environment, please rerun this cell to show the HTML representation or trust the notebook. <br />On GitHub, the HTML representation is unable to render, please try loading this page with nbviewer.org.</b></div><div class=\"sk-container\" hidden><div class=\"sk-item sk-dashed-wrapped\"><div class=\"sk-label-container\"><div class=\"sk-label sk-toggleable\"><input class=\"sk-toggleable__control sk-hidden--visually\" id=\"sk-estimator-id-1\" type=\"checkbox\" ><label for=\"sk-estimator-id-1\" class=\"sk-toggleable__label sk-toggleable__label-arrow\">RandomizedSearchCV</label><div class=\"sk-toggleable__content\"><pre>RandomizedSearchCV(cv=5, estimator=DecisionTreeRegressor(random_state=42),\n",
       "                   param_distributions={&#x27;max_depth&#x27;: (1, 2, 3, 4, 5, 6, 7, 8, 9,\n",
       "                                                      10),\n",
       "                                        &#x27;max_leaf_nodes&#x27;: (5, 10, 20, 50, 100)})</pre></div></div></div><div class=\"sk-parallel\"><div class=\"sk-parallel-item\"><div class=\"sk-item\"><div class=\"sk-label-container\"><div class=\"sk-label sk-toggleable\"><input class=\"sk-toggleable__control sk-hidden--visually\" id=\"sk-estimator-id-2\" type=\"checkbox\" ><label for=\"sk-estimator-id-2\" class=\"sk-toggleable__label sk-toggleable__label-arrow\">estimator: DecisionTreeRegressor</label><div class=\"sk-toggleable__content\"><pre>DecisionTreeRegressor(random_state=42)</pre></div></div></div><div class=\"sk-serial\"><div class=\"sk-item\"><div class=\"sk-estimator sk-toggleable\"><input class=\"sk-toggleable__control sk-hidden--visually\" id=\"sk-estimator-id-3\" type=\"checkbox\" ><label for=\"sk-estimator-id-3\" class=\"sk-toggleable__label sk-toggleable__label-arrow\">DecisionTreeRegressor</label><div class=\"sk-toggleable__content\"><pre>DecisionTreeRegressor(random_state=42)</pre></div></div></div></div></div></div></div></div></div></div>"
      ],
      "text/plain": [
       "RandomizedSearchCV(cv=5, estimator=DecisionTreeRegressor(random_state=42),\n",
       "                   param_distributions={'max_depth': (1, 2, 3, 4, 5, 6, 7, 8, 9,\n",
       "                                                      10),\n",
       "                                        'max_leaf_nodes': (5, 10, 20, 50, 100)})"
      ]
     },
     "execution_count": 41,
     "metadata": {},
     "output_type": "execute_result"
    }
   ],
   "source": [
    "from sklearn.model_selection import RandomizedSearchCV\n",
    "\n",
    "parameters = {\n",
    "    'max_depth':(1,2,3,4,5,6,7,8,9,10),\n",
    "    'max_leaf_nodes' : (5,10,20,50,100)\n",
    "}\n",
    "\n",
    "# note: we use recall\n",
    "dt_randomcv = RandomizedSearchCV(dt, parameters, cv=5, n_iter=10)\n",
    "dt_randomcv.fit(X_train_dt, y_train_dt)"
   ]
  },
  {
   "cell_type": "code",
   "execution_count": 42,
   "id": "5a053315",
   "metadata": {},
   "outputs": [
    {
     "data": {
      "text/html": [
       "<div>\n",
       "<style scoped>\n",
       "    .dataframe tbody tr th:only-of-type {\n",
       "        vertical-align: middle;\n",
       "    }\n",
       "\n",
       "    .dataframe tbody tr th {\n",
       "        vertical-align: top;\n",
       "    }\n",
       "\n",
       "    .dataframe thead th {\n",
       "        text-align: right;\n",
       "    }\n",
       "</style>\n",
       "<table border=\"1\" class=\"dataframe\">\n",
       "  <thead>\n",
       "    <tr style=\"text-align: right;\">\n",
       "      <th></th>\n",
       "      <th>params</th>\n",
       "      <th>mean_test_score</th>\n",
       "      <th>rank_test_score</th>\n",
       "    </tr>\n",
       "  </thead>\n",
       "  <tbody>\n",
       "    <tr>\n",
       "      <th>3</th>\n",
       "      <td>{'max_leaf_nodes': 20, 'max_depth': 10}</td>\n",
       "      <td>0.733073</td>\n",
       "      <td>1</td>\n",
       "    </tr>\n",
       "    <tr>\n",
       "      <th>0</th>\n",
       "      <td>{'max_leaf_nodes': 10, 'max_depth': 10}</td>\n",
       "      <td>0.723206</td>\n",
       "      <td>2</td>\n",
       "    </tr>\n",
       "    <tr>\n",
       "      <th>5</th>\n",
       "      <td>{'max_leaf_nodes': 10, 'max_depth': 9}</td>\n",
       "      <td>0.723206</td>\n",
       "      <td>2</td>\n",
       "    </tr>\n",
       "    <tr>\n",
       "      <th>4</th>\n",
       "      <td>{'max_leaf_nodes': 100, 'max_depth': 8}</td>\n",
       "      <td>0.717573</td>\n",
       "      <td>4</td>\n",
       "    </tr>\n",
       "    <tr>\n",
       "      <th>7</th>\n",
       "      <td>{'max_leaf_nodes': 100, 'max_depth': 3}</td>\n",
       "      <td>0.712562</td>\n",
       "      <td>5</td>\n",
       "    </tr>\n",
       "    <tr>\n",
       "      <th>2</th>\n",
       "      <td>{'max_leaf_nodes': 5, 'max_depth': 8}</td>\n",
       "      <td>0.689868</td>\n",
       "      <td>6</td>\n",
       "    </tr>\n",
       "    <tr>\n",
       "      <th>1</th>\n",
       "      <td>{'max_leaf_nodes': 10, 'max_depth': 2}</td>\n",
       "      <td>0.683481</td>\n",
       "      <td>7</td>\n",
       "    </tr>\n",
       "    <tr>\n",
       "      <th>6</th>\n",
       "      <td>{'max_leaf_nodes': 50, 'max_depth': 1}</td>\n",
       "      <td>0.592060</td>\n",
       "      <td>8</td>\n",
       "    </tr>\n",
       "    <tr>\n",
       "      <th>8</th>\n",
       "      <td>{'max_leaf_nodes': 10, 'max_depth': 1}</td>\n",
       "      <td>0.592060</td>\n",
       "      <td>8</td>\n",
       "    </tr>\n",
       "    <tr>\n",
       "      <th>9</th>\n",
       "      <td>{'max_leaf_nodes': 5, 'max_depth': 1}</td>\n",
       "      <td>0.592060</td>\n",
       "      <td>8</td>\n",
       "    </tr>\n",
       "  </tbody>\n",
       "</table>\n",
       "</div>"
      ],
      "text/plain": [
       "                                    params  mean_test_score  rank_test_score\n",
       "3  {'max_leaf_nodes': 20, 'max_depth': 10}         0.733073                1\n",
       "0  {'max_leaf_nodes': 10, 'max_depth': 10}         0.723206                2\n",
       "5   {'max_leaf_nodes': 10, 'max_depth': 9}         0.723206                2\n",
       "4  {'max_leaf_nodes': 100, 'max_depth': 8}         0.717573                4\n",
       "7  {'max_leaf_nodes': 100, 'max_depth': 3}         0.712562                5\n",
       "2    {'max_leaf_nodes': 5, 'max_depth': 8}         0.689868                6\n",
       "1   {'max_leaf_nodes': 10, 'max_depth': 2}         0.683481                7\n",
       "6   {'max_leaf_nodes': 50, 'max_depth': 1}         0.592060                8\n",
       "8   {'max_leaf_nodes': 10, 'max_depth': 1}         0.592060                8\n",
       "9    {'max_leaf_nodes': 5, 'max_depth': 1}         0.592060                8"
      ]
     },
     "execution_count": 42,
     "metadata": {},
     "output_type": "execute_result"
    }
   ],
   "source": [
    "# the results\n",
    "cv_result = pd.DataFrame(dt_randomcv.cv_results_)\n",
    "retain_cols = ['params','mean_test_score','rank_test_score']\n",
    "cv_result[retain_cols].sort_values('rank_test_score')"
   ]
  },
  {
   "cell_type": "markdown",
   "id": "96274274",
   "metadata": {},
   "source": [
    "The best hyperparameter is with max_depth: 9 and max_leaf_nodes: 50"
   ]
  },
  {
   "cell_type": "code",
   "execution_count": 43,
   "id": "07d793d5",
   "metadata": {},
   "outputs": [
    {
     "name": "stdout",
     "output_type": "stream",
     "text": [
      "Mean Squared Error: 0.7287182098741624\n",
      "R-squared Score: 0.7542933392839752\n"
     ]
    }
   ],
   "source": [
    "dt = DecisionTreeRegressor(random_state=42, max_depth=9, max_leaf_nodes=50)\n",
    "dt.fit(X_train_dt, y_train_dt)\n",
    "y_pred = dt.predict(X_test_dt)\n",
    "\n",
    "# Evaluate the model\n",
    "mse_dt = mean_squared_error(y_test_dt, y_pred)\n",
    "r2_dt = r2_score(y_test_dt, y_pred)\n",
    "\n",
    "print(\"Mean Squared Error:\", mse_dt)\n",
    "print(\"R-squared Score:\", r2_dt)"
   ]
  },
  {
   "cell_type": "markdown",
   "id": "5fb2696c",
   "metadata": {},
   "source": [
    "#### Random Forest"
   ]
  },
  {
   "cell_type": "code",
   "execution_count": 44,
   "id": "dda6c026",
   "metadata": {},
   "outputs": [],
   "source": [
    "X_train_rf, X_test_rf, y_train_rf, y_test_rf = train_test_split(X_scaled, y, test_size=0.2, random_state=42)"
   ]
  },
  {
   "cell_type": "code",
   "execution_count": 45,
   "id": "ae2ddf8b",
   "metadata": {},
   "outputs": [],
   "source": [
    "rf = RandomForestRegressor(random_state=42)"
   ]
  },
  {
   "cell_type": "markdown",
   "id": "ec4e7913",
   "metadata": {},
   "source": [
    "##### Hyperparameter Tuning"
   ]
  },
  {
   "cell_type": "code",
   "execution_count": 46,
   "id": "e9c5e79b",
   "metadata": {},
   "outputs": [
    {
     "data": {
      "text/html": [
       "<style>#sk-container-id-2 {color: black;background-color: white;}#sk-container-id-2 pre{padding: 0;}#sk-container-id-2 div.sk-toggleable {background-color: white;}#sk-container-id-2 label.sk-toggleable__label {cursor: pointer;display: block;width: 100%;margin-bottom: 0;padding: 0.3em;box-sizing: border-box;text-align: center;}#sk-container-id-2 label.sk-toggleable__label-arrow:before {content: \"▸\";float: left;margin-right: 0.25em;color: #696969;}#sk-container-id-2 label.sk-toggleable__label-arrow:hover:before {color: black;}#sk-container-id-2 div.sk-estimator:hover label.sk-toggleable__label-arrow:before {color: black;}#sk-container-id-2 div.sk-toggleable__content {max-height: 0;max-width: 0;overflow: hidden;text-align: left;background-color: #f0f8ff;}#sk-container-id-2 div.sk-toggleable__content pre {margin: 0.2em;color: black;border-radius: 0.25em;background-color: #f0f8ff;}#sk-container-id-2 input.sk-toggleable__control:checked~div.sk-toggleable__content {max-height: 200px;max-width: 100%;overflow: auto;}#sk-container-id-2 input.sk-toggleable__control:checked~label.sk-toggleable__label-arrow:before {content: \"▾\";}#sk-container-id-2 div.sk-estimator input.sk-toggleable__control:checked~label.sk-toggleable__label {background-color: #d4ebff;}#sk-container-id-2 div.sk-label input.sk-toggleable__control:checked~label.sk-toggleable__label {background-color: #d4ebff;}#sk-container-id-2 input.sk-hidden--visually {border: 0;clip: rect(1px 1px 1px 1px);clip: rect(1px, 1px, 1px, 1px);height: 1px;margin: -1px;overflow: hidden;padding: 0;position: absolute;width: 1px;}#sk-container-id-2 div.sk-estimator {font-family: monospace;background-color: #f0f8ff;border: 1px dotted black;border-radius: 0.25em;box-sizing: border-box;margin-bottom: 0.5em;}#sk-container-id-2 div.sk-estimator:hover {background-color: #d4ebff;}#sk-container-id-2 div.sk-parallel-item::after {content: \"\";width: 100%;border-bottom: 1px solid gray;flex-grow: 1;}#sk-container-id-2 div.sk-label:hover label.sk-toggleable__label {background-color: #d4ebff;}#sk-container-id-2 div.sk-serial::before {content: \"\";position: absolute;border-left: 1px solid gray;box-sizing: border-box;top: 0;bottom: 0;left: 50%;z-index: 0;}#sk-container-id-2 div.sk-serial {display: flex;flex-direction: column;align-items: center;background-color: white;padding-right: 0.2em;padding-left: 0.2em;position: relative;}#sk-container-id-2 div.sk-item {position: relative;z-index: 1;}#sk-container-id-2 div.sk-parallel {display: flex;align-items: stretch;justify-content: center;background-color: white;position: relative;}#sk-container-id-2 div.sk-item::before, #sk-container-id-2 div.sk-parallel-item::before {content: \"\";position: absolute;border-left: 1px solid gray;box-sizing: border-box;top: 0;bottom: 0;left: 50%;z-index: -1;}#sk-container-id-2 div.sk-parallel-item {display: flex;flex-direction: column;z-index: 1;position: relative;background-color: white;}#sk-container-id-2 div.sk-parallel-item:first-child::after {align-self: flex-end;width: 50%;}#sk-container-id-2 div.sk-parallel-item:last-child::after {align-self: flex-start;width: 50%;}#sk-container-id-2 div.sk-parallel-item:only-child::after {width: 0;}#sk-container-id-2 div.sk-dashed-wrapped {border: 1px dashed gray;margin: 0 0.4em 0.5em 0.4em;box-sizing: border-box;padding-bottom: 0.4em;background-color: white;}#sk-container-id-2 div.sk-label label {font-family: monospace;font-weight: bold;display: inline-block;line-height: 1.2em;}#sk-container-id-2 div.sk-label-container {text-align: center;}#sk-container-id-2 div.sk-container {/* jupyter's `normalize.less` sets `[hidden] { display: none; }` but bootstrap.min.css set `[hidden] { display: none !important; }` so we also need the `!important` here to be able to override the default hidden behavior on the sphinx rendered scikit-learn.org. See: https://github.com/scikit-learn/scikit-learn/issues/21755 */display: inline-block !important;position: relative;}#sk-container-id-2 div.sk-text-repr-fallback {display: none;}</style><div id=\"sk-container-id-2\" class=\"sk-top-container\"><div class=\"sk-text-repr-fallback\"><pre>RandomizedSearchCV(cv=5, estimator=RandomForestRegressor(random_state=42),\n",
       "                   param_distributions={&#x27;max_depth&#x27;: (1, 2, 3, 4, 5, 6, 7, 8, 9,\n",
       "                                                      10),\n",
       "                                        &#x27;n_estimators&#x27;: (10, 20, 30, 40, 50, 60,\n",
       "                                                         70, 80, 90, 100)})</pre><b>In a Jupyter environment, please rerun this cell to show the HTML representation or trust the notebook. <br />On GitHub, the HTML representation is unable to render, please try loading this page with nbviewer.org.</b></div><div class=\"sk-container\" hidden><div class=\"sk-item sk-dashed-wrapped\"><div class=\"sk-label-container\"><div class=\"sk-label sk-toggleable\"><input class=\"sk-toggleable__control sk-hidden--visually\" id=\"sk-estimator-id-4\" type=\"checkbox\" ><label for=\"sk-estimator-id-4\" class=\"sk-toggleable__label sk-toggleable__label-arrow\">RandomizedSearchCV</label><div class=\"sk-toggleable__content\"><pre>RandomizedSearchCV(cv=5, estimator=RandomForestRegressor(random_state=42),\n",
       "                   param_distributions={&#x27;max_depth&#x27;: (1, 2, 3, 4, 5, 6, 7, 8, 9,\n",
       "                                                      10),\n",
       "                                        &#x27;n_estimators&#x27;: (10, 20, 30, 40, 50, 60,\n",
       "                                                         70, 80, 90, 100)})</pre></div></div></div><div class=\"sk-parallel\"><div class=\"sk-parallel-item\"><div class=\"sk-item\"><div class=\"sk-label-container\"><div class=\"sk-label sk-toggleable\"><input class=\"sk-toggleable__control sk-hidden--visually\" id=\"sk-estimator-id-5\" type=\"checkbox\" ><label for=\"sk-estimator-id-5\" class=\"sk-toggleable__label sk-toggleable__label-arrow\">estimator: RandomForestRegressor</label><div class=\"sk-toggleable__content\"><pre>RandomForestRegressor(random_state=42)</pre></div></div></div><div class=\"sk-serial\"><div class=\"sk-item\"><div class=\"sk-estimator sk-toggleable\"><input class=\"sk-toggleable__control sk-hidden--visually\" id=\"sk-estimator-id-6\" type=\"checkbox\" ><label for=\"sk-estimator-id-6\" class=\"sk-toggleable__label sk-toggleable__label-arrow\">RandomForestRegressor</label><div class=\"sk-toggleable__content\"><pre>RandomForestRegressor(random_state=42)</pre></div></div></div></div></div></div></div></div></div></div>"
      ],
      "text/plain": [
       "RandomizedSearchCV(cv=5, estimator=RandomForestRegressor(random_state=42),\n",
       "                   param_distributions={'max_depth': (1, 2, 3, 4, 5, 6, 7, 8, 9,\n",
       "                                                      10),\n",
       "                                        'n_estimators': (10, 20, 30, 40, 50, 60,\n",
       "                                                         70, 80, 90, 100)})"
      ]
     },
     "execution_count": 46,
     "metadata": {},
     "output_type": "execute_result"
    }
   ],
   "source": [
    "parameters = {\n",
    "    'n_estimators': (10,20,30,40,50,60,70,80,90,100),\n",
    "    'max_depth': (1,2,3,4,5,6,7,8,9,10)\n",
    "}\n",
    "\n",
    "# note: we use recall\n",
    "rf_randomcv = RandomizedSearchCV(rf, parameters, cv=5, n_iter=10)\n",
    "rf_randomcv.fit(X_train_rf, y_train_rf)"
   ]
  },
  {
   "cell_type": "code",
   "execution_count": 47,
   "id": "734aacbc",
   "metadata": {},
   "outputs": [
    {
     "data": {
      "text/html": [
       "<div>\n",
       "<style scoped>\n",
       "    .dataframe tbody tr th:only-of-type {\n",
       "        vertical-align: middle;\n",
       "    }\n",
       "\n",
       "    .dataframe tbody tr th {\n",
       "        vertical-align: top;\n",
       "    }\n",
       "\n",
       "    .dataframe thead th {\n",
       "        text-align: right;\n",
       "    }\n",
       "</style>\n",
       "<table border=\"1\" class=\"dataframe\">\n",
       "  <thead>\n",
       "    <tr style=\"text-align: right;\">\n",
       "      <th></th>\n",
       "      <th>params</th>\n",
       "      <th>mean_test_score</th>\n",
       "      <th>rank_test_score</th>\n",
       "    </tr>\n",
       "  </thead>\n",
       "  <tbody>\n",
       "    <tr>\n",
       "      <th>8</th>\n",
       "      <td>{'n_estimators': 60, 'max_depth': 10}</td>\n",
       "      <td>0.773134</td>\n",
       "      <td>1</td>\n",
       "    </tr>\n",
       "    <tr>\n",
       "      <th>7</th>\n",
       "      <td>{'n_estimators': 50, 'max_depth': 9}</td>\n",
       "      <td>0.769248</td>\n",
       "      <td>2</td>\n",
       "    </tr>\n",
       "    <tr>\n",
       "      <th>6</th>\n",
       "      <td>{'n_estimators': 100, 'max_depth': 9}</td>\n",
       "      <td>0.769123</td>\n",
       "      <td>3</td>\n",
       "    </tr>\n",
       "    <tr>\n",
       "      <th>3</th>\n",
       "      <td>{'n_estimators': 100, 'max_depth': 8}</td>\n",
       "      <td>0.766692</td>\n",
       "      <td>4</td>\n",
       "    </tr>\n",
       "    <tr>\n",
       "      <th>9</th>\n",
       "      <td>{'n_estimators': 30, 'max_depth': 7}</td>\n",
       "      <td>0.759787</td>\n",
       "      <td>5</td>\n",
       "    </tr>\n",
       "    <tr>\n",
       "      <th>5</th>\n",
       "      <td>{'n_estimators': 60, 'max_depth': 6}</td>\n",
       "      <td>0.754778</td>\n",
       "      <td>6</td>\n",
       "    </tr>\n",
       "    <tr>\n",
       "      <th>2</th>\n",
       "      <td>{'n_estimators': 40, 'max_depth': 6}</td>\n",
       "      <td>0.753193</td>\n",
       "      <td>7</td>\n",
       "    </tr>\n",
       "    <tr>\n",
       "      <th>4</th>\n",
       "      <td>{'n_estimators': 20, 'max_depth': 4}</td>\n",
       "      <td>0.736377</td>\n",
       "      <td>8</td>\n",
       "    </tr>\n",
       "    <tr>\n",
       "      <th>1</th>\n",
       "      <td>{'n_estimators': 60, 'max_depth': 3}</td>\n",
       "      <td>0.724073</td>\n",
       "      <td>9</td>\n",
       "    </tr>\n",
       "    <tr>\n",
       "      <th>0</th>\n",
       "      <td>{'n_estimators': 10, 'max_depth': 2}</td>\n",
       "      <td>0.701005</td>\n",
       "      <td>10</td>\n",
       "    </tr>\n",
       "  </tbody>\n",
       "</table>\n",
       "</div>"
      ],
      "text/plain": [
       "                                  params  mean_test_score  rank_test_score\n",
       "8  {'n_estimators': 60, 'max_depth': 10}         0.773134                1\n",
       "7   {'n_estimators': 50, 'max_depth': 9}         0.769248                2\n",
       "6  {'n_estimators': 100, 'max_depth': 9}         0.769123                3\n",
       "3  {'n_estimators': 100, 'max_depth': 8}         0.766692                4\n",
       "9   {'n_estimators': 30, 'max_depth': 7}         0.759787                5\n",
       "5   {'n_estimators': 60, 'max_depth': 6}         0.754778                6\n",
       "2   {'n_estimators': 40, 'max_depth': 6}         0.753193                7\n",
       "4   {'n_estimators': 20, 'max_depth': 4}         0.736377                8\n",
       "1   {'n_estimators': 60, 'max_depth': 3}         0.724073                9\n",
       "0   {'n_estimators': 10, 'max_depth': 2}         0.701005               10"
      ]
     },
     "execution_count": 47,
     "metadata": {},
     "output_type": "execute_result"
    }
   ],
   "source": [
    "# the results\n",
    "cv_result = pd.DataFrame(rf_randomcv.cv_results_)\n",
    "retain_cols = ['params','mean_test_score','rank_test_score']\n",
    "cv_result[retain_cols].sort_values('rank_test_score')"
   ]
  },
  {
   "cell_type": "markdown",
   "id": "c83f3636",
   "metadata": {},
   "source": [
    "The best hyperparameter is with max_depth: 10 and n_estimators: 40"
   ]
  },
  {
   "cell_type": "code",
   "execution_count": 48,
   "id": "4ec9e3f6",
   "metadata": {},
   "outputs": [
    {
     "name": "stdout",
     "output_type": "stream",
     "text": [
      "Mean Squared Error: 0.6374845125433667\n",
      "R-squared Score: 0.7850551986861127\n"
     ]
    }
   ],
   "source": [
    "rf = RandomForestRegressor(random_state=42, n_estimators=70, max_depth=9)\n",
    "rf.fit(X_train_rf, y_train_rf)\n",
    "y_pred_train = rf.predict(X_train_rf)\n",
    "y_pred = rf.predict(X_test_rf)\n",
    "\n",
    "# Evaluate the model\n",
    "mse_rf = mean_squared_error(y_test_rf, y_pred)\n",
    "r2_rf = r2_score(y_test_rf, y_pred)\n",
    "\n",
    "print(\"Mean Squared Error:\", mse_rf)\n",
    "print(\"R-squared Score:\", r2_rf)"
   ]
  },
  {
   "cell_type": "markdown",
   "id": "8fb42a1d",
   "metadata": {},
   "source": [
    "#### XGBoost"
   ]
  },
  {
   "cell_type": "code",
   "execution_count": 49,
   "id": "aaccaba9",
   "metadata": {},
   "outputs": [],
   "source": [
    "X_train_xgb, X_test_xgb, y_train_xgb, y_test_xgb = train_test_split(X_scaled, y, test_size=0.2, random_state=42)"
   ]
  },
  {
   "cell_type": "code",
   "execution_count": 50,
   "id": "ad4351f2",
   "metadata": {},
   "outputs": [],
   "source": [
    "# Create an XGBoost regressor\n",
    "xgb_reg = xgb.XGBRegressor()"
   ]
  },
  {
   "cell_type": "markdown",
   "id": "31d7bf1b",
   "metadata": {},
   "source": [
    "##### Hyperparameter Tuning"
   ]
  },
  {
   "cell_type": "code",
   "execution_count": 51,
   "id": "386fd40c",
   "metadata": {},
   "outputs": [
    {
     "data": {
      "text/html": [
       "<style>#sk-container-id-3 {color: black;background-color: white;}#sk-container-id-3 pre{padding: 0;}#sk-container-id-3 div.sk-toggleable {background-color: white;}#sk-container-id-3 label.sk-toggleable__label {cursor: pointer;display: block;width: 100%;margin-bottom: 0;padding: 0.3em;box-sizing: border-box;text-align: center;}#sk-container-id-3 label.sk-toggleable__label-arrow:before {content: \"▸\";float: left;margin-right: 0.25em;color: #696969;}#sk-container-id-3 label.sk-toggleable__label-arrow:hover:before {color: black;}#sk-container-id-3 div.sk-estimator:hover label.sk-toggleable__label-arrow:before {color: black;}#sk-container-id-3 div.sk-toggleable__content {max-height: 0;max-width: 0;overflow: hidden;text-align: left;background-color: #f0f8ff;}#sk-container-id-3 div.sk-toggleable__content pre {margin: 0.2em;color: black;border-radius: 0.25em;background-color: #f0f8ff;}#sk-container-id-3 input.sk-toggleable__control:checked~div.sk-toggleable__content {max-height: 200px;max-width: 100%;overflow: auto;}#sk-container-id-3 input.sk-toggleable__control:checked~label.sk-toggleable__label-arrow:before {content: \"▾\";}#sk-container-id-3 div.sk-estimator input.sk-toggleable__control:checked~label.sk-toggleable__label {background-color: #d4ebff;}#sk-container-id-3 div.sk-label input.sk-toggleable__control:checked~label.sk-toggleable__label {background-color: #d4ebff;}#sk-container-id-3 input.sk-hidden--visually {border: 0;clip: rect(1px 1px 1px 1px);clip: rect(1px, 1px, 1px, 1px);height: 1px;margin: -1px;overflow: hidden;padding: 0;position: absolute;width: 1px;}#sk-container-id-3 div.sk-estimator {font-family: monospace;background-color: #f0f8ff;border: 1px dotted black;border-radius: 0.25em;box-sizing: border-box;margin-bottom: 0.5em;}#sk-container-id-3 div.sk-estimator:hover {background-color: #d4ebff;}#sk-container-id-3 div.sk-parallel-item::after {content: \"\";width: 100%;border-bottom: 1px solid gray;flex-grow: 1;}#sk-container-id-3 div.sk-label:hover label.sk-toggleable__label {background-color: #d4ebff;}#sk-container-id-3 div.sk-serial::before {content: \"\";position: absolute;border-left: 1px solid gray;box-sizing: border-box;top: 0;bottom: 0;left: 50%;z-index: 0;}#sk-container-id-3 div.sk-serial {display: flex;flex-direction: column;align-items: center;background-color: white;padding-right: 0.2em;padding-left: 0.2em;position: relative;}#sk-container-id-3 div.sk-item {position: relative;z-index: 1;}#sk-container-id-3 div.sk-parallel {display: flex;align-items: stretch;justify-content: center;background-color: white;position: relative;}#sk-container-id-3 div.sk-item::before, #sk-container-id-3 div.sk-parallel-item::before {content: \"\";position: absolute;border-left: 1px solid gray;box-sizing: border-box;top: 0;bottom: 0;left: 50%;z-index: -1;}#sk-container-id-3 div.sk-parallel-item {display: flex;flex-direction: column;z-index: 1;position: relative;background-color: white;}#sk-container-id-3 div.sk-parallel-item:first-child::after {align-self: flex-end;width: 50%;}#sk-container-id-3 div.sk-parallel-item:last-child::after {align-self: flex-start;width: 50%;}#sk-container-id-3 div.sk-parallel-item:only-child::after {width: 0;}#sk-container-id-3 div.sk-dashed-wrapped {border: 1px dashed gray;margin: 0 0.4em 0.5em 0.4em;box-sizing: border-box;padding-bottom: 0.4em;background-color: white;}#sk-container-id-3 div.sk-label label {font-family: monospace;font-weight: bold;display: inline-block;line-height: 1.2em;}#sk-container-id-3 div.sk-label-container {text-align: center;}#sk-container-id-3 div.sk-container {/* jupyter's `normalize.less` sets `[hidden] { display: none; }` but bootstrap.min.css set `[hidden] { display: none !important; }` so we also need the `!important` here to be able to override the default hidden behavior on the sphinx rendered scikit-learn.org. See: https://github.com/scikit-learn/scikit-learn/issues/21755 */display: inline-block !important;position: relative;}#sk-container-id-3 div.sk-text-repr-fallback {display: none;}</style><div id=\"sk-container-id-3\" class=\"sk-top-container\"><div class=\"sk-text-repr-fallback\"><pre>RandomizedSearchCV(cv=5,\n",
       "                   estimator=XGBRegressor(base_score=None, booster=None,\n",
       "                                          callbacks=None,\n",
       "                                          colsample_bylevel=None,\n",
       "                                          colsample_bynode=None,\n",
       "                                          colsample_bytree=None,\n",
       "                                          early_stopping_rounds=None,\n",
       "                                          enable_categorical=False,\n",
       "                                          eval_metric=None, feature_types=None,\n",
       "                                          gamma=None, gpu_id=None,\n",
       "                                          grow_policy=None,\n",
       "                                          importance_type=None,\n",
       "                                          interaction_constraints=None,\n",
       "                                          learning_rate=None, max_bin=None,\n",
       "                                          max_cat_threshold=None,\n",
       "                                          max_cat_to_onehot=None,\n",
       "                                          max_delta_step=None, max_depth=None,\n",
       "                                          max_leaves=None,\n",
       "                                          min_child_weight=None, missing=nan,\n",
       "                                          monotone_constraints=None,\n",
       "                                          n_estimators=100, n_jobs=None,\n",
       "                                          num_parallel_tree=None,\n",
       "                                          predictor=None, random_state=None, ...),\n",
       "                   param_distributions={&#x27;gamma&#x27;: (0, 1, 2, 3, 4, 5, 10, 20),\n",
       "                                        &#x27;max_depth&#x27;: (6, 7, 8, 9, 10, 20, 30)})</pre><b>In a Jupyter environment, please rerun this cell to show the HTML representation or trust the notebook. <br />On GitHub, the HTML representation is unable to render, please try loading this page with nbviewer.org.</b></div><div class=\"sk-container\" hidden><div class=\"sk-item sk-dashed-wrapped\"><div class=\"sk-label-container\"><div class=\"sk-label sk-toggleable\"><input class=\"sk-toggleable__control sk-hidden--visually\" id=\"sk-estimator-id-7\" type=\"checkbox\" ><label for=\"sk-estimator-id-7\" class=\"sk-toggleable__label sk-toggleable__label-arrow\">RandomizedSearchCV</label><div class=\"sk-toggleable__content\"><pre>RandomizedSearchCV(cv=5,\n",
       "                   estimator=XGBRegressor(base_score=None, booster=None,\n",
       "                                          callbacks=None,\n",
       "                                          colsample_bylevel=None,\n",
       "                                          colsample_bynode=None,\n",
       "                                          colsample_bytree=None,\n",
       "                                          early_stopping_rounds=None,\n",
       "                                          enable_categorical=False,\n",
       "                                          eval_metric=None, feature_types=None,\n",
       "                                          gamma=None, gpu_id=None,\n",
       "                                          grow_policy=None,\n",
       "                                          importance_type=None,\n",
       "                                          interaction_constraints=None,\n",
       "                                          learning_rate=None, max_bin=None,\n",
       "                                          max_cat_threshold=None,\n",
       "                                          max_cat_to_onehot=None,\n",
       "                                          max_delta_step=None, max_depth=None,\n",
       "                                          max_leaves=None,\n",
       "                                          min_child_weight=None, missing=nan,\n",
       "                                          monotone_constraints=None,\n",
       "                                          n_estimators=100, n_jobs=None,\n",
       "                                          num_parallel_tree=None,\n",
       "                                          predictor=None, random_state=None, ...),\n",
       "                   param_distributions={&#x27;gamma&#x27;: (0, 1, 2, 3, 4, 5, 10, 20),\n",
       "                                        &#x27;max_depth&#x27;: (6, 7, 8, 9, 10, 20, 30)})</pre></div></div></div><div class=\"sk-parallel\"><div class=\"sk-parallel-item\"><div class=\"sk-item\"><div class=\"sk-label-container\"><div class=\"sk-label sk-toggleable\"><input class=\"sk-toggleable__control sk-hidden--visually\" id=\"sk-estimator-id-8\" type=\"checkbox\" ><label for=\"sk-estimator-id-8\" class=\"sk-toggleable__label sk-toggleable__label-arrow\">estimator: XGBRegressor</label><div class=\"sk-toggleable__content\"><pre>XGBRegressor(base_score=None, booster=None, callbacks=None,\n",
       "             colsample_bylevel=None, colsample_bynode=None,\n",
       "             colsample_bytree=None, early_stopping_rounds=None,\n",
       "             enable_categorical=False, eval_metric=None, feature_types=None,\n",
       "             gamma=None, gpu_id=None, grow_policy=None, importance_type=None,\n",
       "             interaction_constraints=None, learning_rate=None, max_bin=None,\n",
       "             max_cat_threshold=None, max_cat_to_onehot=None,\n",
       "             max_delta_step=None, max_depth=None, max_leaves=None,\n",
       "             min_child_weight=None, missing=nan, monotone_constraints=None,\n",
       "             n_estimators=100, n_jobs=None, num_parallel_tree=None,\n",
       "             predictor=None, random_state=None, ...)</pre></div></div></div><div class=\"sk-serial\"><div class=\"sk-item\"><div class=\"sk-estimator sk-toggleable\"><input class=\"sk-toggleable__control sk-hidden--visually\" id=\"sk-estimator-id-9\" type=\"checkbox\" ><label for=\"sk-estimator-id-9\" class=\"sk-toggleable__label sk-toggleable__label-arrow\">XGBRegressor</label><div class=\"sk-toggleable__content\"><pre>XGBRegressor(base_score=None, booster=None, callbacks=None,\n",
       "             colsample_bylevel=None, colsample_bynode=None,\n",
       "             colsample_bytree=None, early_stopping_rounds=None,\n",
       "             enable_categorical=False, eval_metric=None, feature_types=None,\n",
       "             gamma=None, gpu_id=None, grow_policy=None, importance_type=None,\n",
       "             interaction_constraints=None, learning_rate=None, max_bin=None,\n",
       "             max_cat_threshold=None, max_cat_to_onehot=None,\n",
       "             max_delta_step=None, max_depth=None, max_leaves=None,\n",
       "             min_child_weight=None, missing=nan, monotone_constraints=None,\n",
       "             n_estimators=100, n_jobs=None, num_parallel_tree=None,\n",
       "             predictor=None, random_state=None, ...)</pre></div></div></div></div></div></div></div></div></div></div>"
      ],
      "text/plain": [
       "RandomizedSearchCV(cv=5,\n",
       "                   estimator=XGBRegressor(base_score=None, booster=None,\n",
       "                                          callbacks=None,\n",
       "                                          colsample_bylevel=None,\n",
       "                                          colsample_bynode=None,\n",
       "                                          colsample_bytree=None,\n",
       "                                          early_stopping_rounds=None,\n",
       "                                          enable_categorical=False,\n",
       "                                          eval_metric=None, feature_types=None,\n",
       "                                          gamma=None, gpu_id=None,\n",
       "                                          grow_policy=None,\n",
       "                                          importance_type=None,\n",
       "                                          interaction_constraints=None,\n",
       "                                          learning_rate=None, max_bin=None,\n",
       "                                          max_cat_threshold=None,\n",
       "                                          max_cat_to_onehot=None,\n",
       "                                          max_delta_step=None, max_depth=None,\n",
       "                                          max_leaves=None,\n",
       "                                          min_child_weight=None, missing=nan,\n",
       "                                          monotone_constraints=None,\n",
       "                                          n_estimators=100, n_jobs=None,\n",
       "                                          num_parallel_tree=None,\n",
       "                                          predictor=None, random_state=None, ...),\n",
       "                   param_distributions={'gamma': (0, 1, 2, 3, 4, 5, 10, 20),\n",
       "                                        'max_depth': (6, 7, 8, 9, 10, 20, 30)})"
      ]
     },
     "execution_count": 51,
     "metadata": {},
     "output_type": "execute_result"
    }
   ],
   "source": [
    "# hyperparameter tuning\n",
    "parameters = {\n",
    "    'max_depth': (6,7,8,9,10,20,30),\n",
    "    'gamma': (0,1,2,3,4,5,10,20)\n",
    "}\n",
    "\n",
    "# now we use recall (sensitivity) as metric\n",
    "xgb_rcv = RandomizedSearchCV(xgb_reg, parameters, cv=5)\n",
    "xgb_rcv.fit(X_train_xgb, y_train_xgb)"
   ]
  },
  {
   "cell_type": "code",
   "execution_count": 52,
   "id": "1395e93f",
   "metadata": {},
   "outputs": [
    {
     "data": {
      "text/html": [
       "<div>\n",
       "<style scoped>\n",
       "    .dataframe tbody tr th:only-of-type {\n",
       "        vertical-align: middle;\n",
       "    }\n",
       "\n",
       "    .dataframe tbody tr th {\n",
       "        vertical-align: top;\n",
       "    }\n",
       "\n",
       "    .dataframe thead th {\n",
       "        text-align: right;\n",
       "    }\n",
       "</style>\n",
       "<table border=\"1\" class=\"dataframe\">\n",
       "  <thead>\n",
       "    <tr style=\"text-align: right;\">\n",
       "      <th></th>\n",
       "      <th>params</th>\n",
       "      <th>mean_test_score</th>\n",
       "      <th>rank_test_score</th>\n",
       "    </tr>\n",
       "  </thead>\n",
       "  <tbody>\n",
       "    <tr>\n",
       "      <th>5</th>\n",
       "      <td>{'max_depth': 6, 'gamma': 3}</td>\n",
       "      <td>0.768166</td>\n",
       "      <td>1</td>\n",
       "    </tr>\n",
       "    <tr>\n",
       "      <th>1</th>\n",
       "      <td>{'max_depth': 8, 'gamma': 10}</td>\n",
       "      <td>0.765274</td>\n",
       "      <td>2</td>\n",
       "    </tr>\n",
       "    <tr>\n",
       "      <th>9</th>\n",
       "      <td>{'max_depth': 8, 'gamma': 3}</td>\n",
       "      <td>0.764783</td>\n",
       "      <td>3</td>\n",
       "    </tr>\n",
       "    <tr>\n",
       "      <th>4</th>\n",
       "      <td>{'max_depth': 6, 'gamma': 4}</td>\n",
       "      <td>0.764164</td>\n",
       "      <td>4</td>\n",
       "    </tr>\n",
       "    <tr>\n",
       "      <th>8</th>\n",
       "      <td>{'max_depth': 6, 'gamma': 1}</td>\n",
       "      <td>0.764147</td>\n",
       "      <td>5</td>\n",
       "    </tr>\n",
       "    <tr>\n",
       "      <th>0</th>\n",
       "      <td>{'max_depth': 10, 'gamma': 10}</td>\n",
       "      <td>0.763273</td>\n",
       "      <td>6</td>\n",
       "    </tr>\n",
       "    <tr>\n",
       "      <th>2</th>\n",
       "      <td>{'max_depth': 6, 'gamma': 10}</td>\n",
       "      <td>0.762370</td>\n",
       "      <td>7</td>\n",
       "    </tr>\n",
       "    <tr>\n",
       "      <th>6</th>\n",
       "      <td>{'max_depth': 10, 'gamma': 2}</td>\n",
       "      <td>0.761579</td>\n",
       "      <td>8</td>\n",
       "    </tr>\n",
       "    <tr>\n",
       "      <th>7</th>\n",
       "      <td>{'max_depth': 9, 'gamma': 4}</td>\n",
       "      <td>0.761279</td>\n",
       "      <td>9</td>\n",
       "    </tr>\n",
       "    <tr>\n",
       "      <th>3</th>\n",
       "      <td>{'max_depth': 10, 'gamma': 3}</td>\n",
       "      <td>0.760631</td>\n",
       "      <td>10</td>\n",
       "    </tr>\n",
       "  </tbody>\n",
       "</table>\n",
       "</div>"
      ],
      "text/plain": [
       "                           params  mean_test_score  rank_test_score\n",
       "5    {'max_depth': 6, 'gamma': 3}         0.768166                1\n",
       "1   {'max_depth': 8, 'gamma': 10}         0.765274                2\n",
       "9    {'max_depth': 8, 'gamma': 3}         0.764783                3\n",
       "4    {'max_depth': 6, 'gamma': 4}         0.764164                4\n",
       "8    {'max_depth': 6, 'gamma': 1}         0.764147                5\n",
       "0  {'max_depth': 10, 'gamma': 10}         0.763273                6\n",
       "2   {'max_depth': 6, 'gamma': 10}         0.762370                7\n",
       "6   {'max_depth': 10, 'gamma': 2}         0.761579                8\n",
       "7    {'max_depth': 9, 'gamma': 4}         0.761279                9\n",
       "3   {'max_depth': 10, 'gamma': 3}         0.760631               10"
      ]
     },
     "execution_count": 52,
     "metadata": {},
     "output_type": "execute_result"
    }
   ],
   "source": [
    "# the compact results\n",
    "cv_result = pd.DataFrame(xgb_rcv.cv_results_)\n",
    "retain_cols = ['params','mean_test_score','rank_test_score']\n",
    "cv_result[retain_cols].sort_values('rank_test_score')"
   ]
  },
  {
   "cell_type": "markdown",
   "id": "ab4874cb",
   "metadata": {},
   "source": [
    "The best hyperparameter is with max_depth: 7 and gamma: 10"
   ]
  },
  {
   "cell_type": "code",
   "execution_count": 53,
   "id": "0c67befc",
   "metadata": {},
   "outputs": [
    {
     "name": "stdout",
     "output_type": "stream",
     "text": [
      "Mean Squared Error: 0.7158806859204201\n",
      "R-squared Score: 0.7586218507714001\n"
     ]
    }
   ],
   "source": [
    "xgb_reg = xgb.XGBRegressor(random_state=42, gamma=70, max_depth=7, objective='reg:squarederror')\n",
    "xgb_reg.fit(X_train_xgb, y_train_xgb)\n",
    "y_pred_train = xgb_reg.predict(X_train_xgb)\n",
    "y_pred = xgb_reg.predict(X_test_xgb)\n",
    "\n",
    "# Evaluate the model\n",
    "mse_xgb = mean_squared_error(y_test_xgb, y_pred)\n",
    "r2_xgb = r2_score(y_test_xgb, y_pred)\n",
    "\n",
    "print(\"Mean Squared Error:\", mse_xgb)\n",
    "print(\"R-squared Score:\", r2_xgb)"
   ]
  },
  {
   "cell_type": "code",
   "execution_count": 54,
   "id": "7032e254",
   "metadata": {},
   "outputs": [
    {
     "name": "stdout",
     "output_type": "stream",
     "text": [
      "Mean Squared Error (Linear Regression): 1.45\n",
      "R-squared Score (Linear Regression): 0.51\n",
      "Mean Squared Error (Decision Tree): 0.73\n",
      "R-squared Score (Decision Tree): 0.75\n",
      "Mean Squared Error (Random Forest): 0.64\n",
      "R-squared Score (Random Forest): 0.79\n",
      "Mean Squared Error (XGBoost): 0.72\n",
      "R-squared Score (XGBoost): 0.76\n"
     ]
    }
   ],
   "source": [
    "print(\"Mean Squared Error (Linear Regression):\", round(mse_lr,2))\n",
    "print(\"R-squared Score (Linear Regression):\", round(r2_lr,2))\n",
    "print(\"Mean Squared Error (Decision Tree):\", round(mse_dt,2))\n",
    "print(\"R-squared Score (Decision Tree):\", round(r2_dt,2))\n",
    "print(\"Mean Squared Error (Random Forest):\", round(mse_rf,2))\n",
    "print(\"R-squared Score (Random Forest):\", round(r2_rf,2))\n",
    "print(\"Mean Squared Error (XGBoost):\", round(mse_xgb,2))\n",
    "print(\"R-squared Score (XGBoost):\", round(r2_xgb,2))"
   ]
  }
 ],
 "metadata": {
  "kernelspec": {
   "display_name": "Python 3 (ipykernel)",
   "language": "python",
   "name": "python3"
  },
  "language_info": {
   "codemirror_mode": {
    "name": "ipython",
    "version": 3
   },
   "file_extension": ".py",
   "mimetype": "text/x-python",
   "name": "python",
   "nbconvert_exporter": "python",
   "pygments_lexer": "ipython3",
   "version": "3.9.16"
  }
 },
 "nbformat": 4,
 "nbformat_minor": 5
}
